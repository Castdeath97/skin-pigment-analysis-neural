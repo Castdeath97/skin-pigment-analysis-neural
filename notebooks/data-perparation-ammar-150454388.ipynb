{
 "cells": [
  {
   "cell_type": "markdown",
   "metadata": {
    "toc": true
   },
   "source": [
    "<h1>Table of Contents<span class=\"tocSkip\"></span></h1>\n",
    "<div class=\"toc\"><ul class=\"toc-item\"><li><span><a href=\"#Introduction\" data-toc-modified-id=\"Introduction-1\"><span class=\"toc-item-num\">1&nbsp;&nbsp;</span>Introduction</a></span></li><li><span><a href=\"#Data-Background\" data-toc-modified-id=\"Data-Background-2\"><span class=\"toc-item-num\">2&nbsp;&nbsp;</span>Data Background</a></span></li><li><span><a href=\"#Final-Dataset-Description\" data-toc-modified-id=\"Final-Dataset-Description-3\"><span class=\"toc-item-num\">3&nbsp;&nbsp;</span>Final Dataset Description</a></span><ul class=\"toc-item\"><li><span><a href=\"#Fields\" data-toc-modified-id=\"Fields-3.1\"><span class=\"toc-item-num\">3.1&nbsp;&nbsp;</span>Fields</a></span></li><li><span><a href=\"#Table-Preprocessing\" data-toc-modified-id=\"Table-Preprocessing-3.2\"><span class=\"toc-item-num\">3.2&nbsp;&nbsp;</span>Table Preprocessing</a></span><ul class=\"toc-item\"><li><span><a href=\"#Metadata-Cleaning\" data-toc-modified-id=\"Metadata-Cleaning-3.2.1\"><span class=\"toc-item-num\">3.2.1&nbsp;&nbsp;</span>Metadata Cleaning</a></span></li><li><span><a href=\"#Luminance-and-RGB-Values-Cleaning\" data-toc-modified-id=\"Luminance-and-RGB-Values-Cleaning-3.2.2\"><span class=\"toc-item-num\">3.2.2&nbsp;&nbsp;</span>Luminance and RGB Values Cleaning</a></span></li><li><span><a href=\"#Luminance-and-RGB-Values-Merge-with-Metadata\" data-toc-modified-id=\"Luminance-and-RGB-Values-Merge-with-Metadata-3.2.3\"><span class=\"toc-item-num\">3.2.3&nbsp;&nbsp;</span>Luminance and RGB Values Merge with Metadata</a></span></li></ul></li></ul></li><li><span><a href=\"#Summary\" data-toc-modified-id=\"Summary-4\"><span class=\"toc-item-num\">4&nbsp;&nbsp;</span>Summary</a></span></li></ul></div>"
   ]
  },
  {
   "cell_type": "markdown",
   "metadata": {},
   "source": [
    "## Introduction \n",
    "\n",
    "This report summaries the Data Preparation stage of the CRISP-DM cycle for this project. In particular, this\n",
    "report covers the background of the data and how it was modified for further analysis, modelling and evaluation of models. This report covers the methodology of data preparation not the detailed technical aspects - those are covered in the Sphinx documentation.\n",
    "\n",
    "## Data Background\n",
    "\n",
    "As stated in the Business Understanding Stage report the data is provided from a kaggle competition in a dataset called the HAM10000. The dataset consists of a set of dermatoscopic images collected from various populations. The final dataset consists of 10015 images. Ground truths are provided by various confirmation techniques (follow-up examination, expert consensus or in-vivo confocal microscopy). \n",
    "\n",
    "The data consists of the following csv files as alluded to in the business understanding report as well:\n",
    "* Images of skin lesions divided into two files:\n",
    "    - HAM1000_images_part_1\n",
    "    - HAM1000_image_part_2\n",
    "* HAM10000_metadata.csv: stores textual information about the image (ground truth, patient information, etc.) .\n",
    "* 28*28 Luminance and RGB values for the skin lesion images:\n",
    "    - hmnist_28_28_L.csv\n",
    "    - hmnist_28_28_RGB.csv\n",
    "\n",
    "## Final Dataset Description \n",
    "\n",
    "### Fields\n",
    "\n",
    "* lesion_type (textual): The diagnosis (ground truth) as a textual description. Values:\n",
    "    - Actinic keratoses\n",
    "    - Basal cell carcinoma\n",
    "    - Benign keratosis-like lesions\n",
    "    - Dermatofibroma\n",
    "    - Melanocytic nevi\n",
    "    - Melanoma\n",
    "    - Vascular lesions \n",
    "* dx_type (textual): The method of diagnosis, textual. Values: \n",
    "    - histopathology follow-up examination (follow_up)\n",
    "    - expert consensus (consensus)\n",
    "    - in-vivo confocal microscopy (confocal). \n",
    "* lesion_type_idx: codes for diagnosis:\n",
    "    - 0: Actinic keratoses\n",
    "    - 1: Basal cell carcinoma\n",
    "    - 2: Benign keratosis-like lesions\n",
    "    - 3: Dermatofibroma\n",
    "    - 4: Melanocytic nevi\n",
    "    - 5: Melanoma\n",
    "    - 6: Vascular lesions\n",
    "* age (numeric): Natural numerical age of the individual the image is taken from.\n",
    "* sex (textual): Sex of the individual the image is taken from (male, female or unknown).\n",
    "* localization (textual): Location of skin lesion in individual.\n",
    "* pixelXXXX_l_28_28 (numeric): Luminance value of images in 28 by 28 pixel representation.\n",
    "* pixelXXXX_rgb_28_28 (numeric): RGB value of images in 28 by 28 pixel representation.\n",
    "\n",
    "### Table Preprocessing \n",
    "\n",
    "Table processing was handled by src.data.make_dataset¶ script and tested by src.tests.test_make_dataset, both scripts are documented by the Sphinx documentation, hence this part of the report will avoid detailed technical explanations. \n",
    "\n",
    "#### Metadata Cleaning \n",
    "\n",
    "Metadata cleaning involves the replacement of null/NA values with the average values of the age column. Averages are used instead of dropping to avoid losing the details these tuples carry, however this can effect the distribution of the data and needs to be taken into account later. \n",
    "\n",
    "Moreover, new categorical numerical code and textual diagnosis fields are added for use in later stages, and the now not needed ids (lesion and image) are removed. \n",
    "\n",
    "#### Luminance and RGB Values Cleaning \n",
    "\n",
    "The luminance and RGB datasets have their label fields removed since they aren't going to be used later in the analysis (already sorted)\n",
    "\n",
    "#### Luminance and RGB Values Merge with Metadata\n",
    "\n",
    "The luminance and RGB pixel values (28 X 28) are added as predictors/variables to the metadata dataset for the Models. However, to ensure that their uniquely named a suffix (\\_rgb_28_28 or \\_l_28_28) for RGB or luminance pixels respectively. Lastly, the merge is carried via a column wise concatenation since no shared keys exists.\n",
    "\n",
    "## Summary\n",
    "\n",
    "To summarise, the Data Preparation stage in this project forms the dataset for analysis, modelling (and their evaluation) using cleaning, merging and other methods to link and combine the raw data. These methods are carried in the src.data.make_dataset script and tested by src.tests.test_make_dataset script, both  of which are covered in the Sphinx documentation. "
   ]
  }
 ],
 "metadata": {
  "kernelspec": {
   "display_name": "Python 3",
   "language": "python",
   "name": "python3"
  },
  "language_info": {
   "codemirror_mode": {
    "name": "ipython",
    "version": 3
   },
   "file_extension": ".py",
   "mimetype": "text/x-python",
   "name": "python",
   "nbconvert_exporter": "python",
   "pygments_lexer": "ipython3",
   "version": "3.7.0"
  },
  "latex_envs": {
   "LaTeX_envs_menu_present": true,
   "autoclose": false,
   "autocomplete": true,
   "bibliofile": "biblio.bib",
   "cite_by": "apalike",
   "current_citInitial": 1,
   "eqLabelWithNumbers": true,
   "eqNumInitial": 1,
   "hotkeys": {
    "equation": "Ctrl-E",
    "itemize": "Ctrl-I"
   },
   "labels_anchors": false,
   "latex_user_defs": false,
   "report_style_numbering": false,
   "user_envs_cfg": false
  },
  "toc": {
   "base_numbering": 1,
   "nav_menu": {},
   "number_sections": true,
   "sideBar": true,
   "skip_h1_title": true,
   "title_cell": "Table of Contents",
   "title_sidebar": "Contents",
   "toc_cell": true,
   "toc_position": {
    "height": "calc(100% - 180px)",
    "left": "10px",
    "top": "150px",
    "width": "165px"
   },
   "toc_section_display": true,
   "toc_window_display": true
  }
 },
 "nbformat": 4,
 "nbformat_minor": 2
}
