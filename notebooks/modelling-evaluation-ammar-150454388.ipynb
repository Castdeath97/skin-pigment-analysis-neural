{
 "cells": [
  {
   "cell_type": "markdown",
   "metadata": {
    "toc": true
   },
   "source": [
    "<h1>Table of Contents<span class=\"tocSkip\"></span></h1>\n",
    "<div class=\"toc\"><ul class=\"toc-item\"><li><span><a href=\"#Report-Introduction\" data-toc-modified-id=\"Report-Introduction-1\"><span class=\"toc-item-num\">1&nbsp;&nbsp;</span>Report Introduction</a></span></li><li><span><a href=\"#Background\" data-toc-modified-id=\"Background-2\"><span class=\"toc-item-num\">2&nbsp;&nbsp;</span>Background</a></span></li><li><span><a href=\"#Modeling-Assumptions-and-Potential-Issues\" data-toc-modified-id=\"Modeling-Assumptions-and-Potential-Issues-3\"><span class=\"toc-item-num\">3&nbsp;&nbsp;</span>Modeling Assumptions and Potential Issues</a></span></li><li><span><a href=\"#Test-design\" data-toc-modified-id=\"Test-design-4\"><span class=\"toc-item-num\">4&nbsp;&nbsp;</span>Test design</a></span><ul class=\"toc-item\"><li><span><a href=\"#Creating-the-Testing-and-Training-Datasets\" data-toc-modified-id=\"Creating-the-Testing-and-Training-Datasets-4.1\"><span class=\"toc-item-num\">4.1&nbsp;&nbsp;</span>Creating the Testing and Training Datasets</a></span><ul class=\"toc-item\"><li><span><a href=\"#One-Hot-Encoding-and-Minor-Manipulation\" data-toc-modified-id=\"One-Hot-Encoding-and-Minor-Manipulation-4.1.1\"><span class=\"toc-item-num\">4.1.1&nbsp;&nbsp;</span>One Hot Encoding and Minor Manipulation</a></span></li><li><span><a href=\"#Test-Split-and-Scaling\" data-toc-modified-id=\"Test-Split-and-Scaling-4.1.2\"><span class=\"toc-item-num\">4.1.2&nbsp;&nbsp;</span>Test Split and Scaling</a></span></li></ul></li><li><span><a href=\"#Measurements\" data-toc-modified-id=\"Measurements-4.2\"><span class=\"toc-item-num\">4.2&nbsp;&nbsp;</span>Measurements</a></span></li></ul></li><li><span><a href=\"#Models-Description-and-Assessments\" data-toc-modified-id=\"Models-Description-and-Assessments-5\"><span class=\"toc-item-num\">5&nbsp;&nbsp;</span>Models Description and Assessments</a></span><ul class=\"toc-item\"><li><span><a href=\"#Logistic-Regression\" data-toc-modified-id=\"Logistic-Regression-5.1\"><span class=\"toc-item-num\">5.1&nbsp;&nbsp;</span>Logistic Regression</a></span><ul class=\"toc-item\"><li><span><a href=\"#Introduction\" data-toc-modified-id=\"Introduction-5.1.1\"><span class=\"toc-item-num\">5.1.1&nbsp;&nbsp;</span>Introduction</a></span></li><li><span><a href=\"#Construction-and-Tuning\" data-toc-modified-id=\"Construction-and-Tuning-5.1.2\"><span class=\"toc-item-num\">5.1.2&nbsp;&nbsp;</span>Construction and Tuning</a></span></li><li><span><a href=\"#Interpretation\" data-toc-modified-id=\"Interpretation-5.1.3\"><span class=\"toc-item-num\">5.1.3&nbsp;&nbsp;</span>Interpretation</a></span></li><li><span><a href=\"#Assessment\" data-toc-modified-id=\"Assessment-5.1.4\"><span class=\"toc-item-num\">5.1.4&nbsp;&nbsp;</span>Assessment</a></span></li></ul></li><li><span><a href=\"#Support-Vector-Machines-(SVM)\" data-toc-modified-id=\"Support-Vector-Machines-(SVM)-5.2\"><span class=\"toc-item-num\">5.2&nbsp;&nbsp;</span>Support Vector Machines (SVM)</a></span><ul class=\"toc-item\"><li><span><a href=\"#Introduction\" data-toc-modified-id=\"Introduction-5.2.1\"><span class=\"toc-item-num\">5.2.1&nbsp;&nbsp;</span>Introduction</a></span></li><li><span><a href=\"#Construction-and-Tuning\" data-toc-modified-id=\"Construction-and-Tuning-5.2.2\"><span class=\"toc-item-num\">5.2.2&nbsp;&nbsp;</span>Construction and Tuning</a></span></li><li><span><a href=\"#Interpretation\" data-toc-modified-id=\"Interpretation-5.2.3\"><span class=\"toc-item-num\">5.2.3&nbsp;&nbsp;</span>Interpretation</a></span></li><li><span><a href=\"#Detailed-assessment\" data-toc-modified-id=\"Detailed-assessment-5.2.4\"><span class=\"toc-item-num\">5.2.4&nbsp;&nbsp;</span>Detailed assessment</a></span></li></ul></li><li><span><a href=\"#Random-Forest\" data-toc-modified-id=\"Random-Forest-5.3\"><span class=\"toc-item-num\">5.3&nbsp;&nbsp;</span>Random Forest</a></span><ul class=\"toc-item\"><li><span><a href=\"#Introduction\" data-toc-modified-id=\"Introduction-5.3.1\"><span class=\"toc-item-num\">5.3.1&nbsp;&nbsp;</span>Introduction</a></span></li><li><span><a href=\"#Construction-and-Tuning\" data-toc-modified-id=\"Construction-and-Tuning-5.3.2\"><span class=\"toc-item-num\">5.3.2&nbsp;&nbsp;</span>Construction and Tuning</a></span></li><li><span><a href=\"#Interpretation\" data-toc-modified-id=\"Interpretation-5.3.3\"><span class=\"toc-item-num\">5.3.3&nbsp;&nbsp;</span>Interpretation</a></span></li><li><span><a href=\"#Assessment\" data-toc-modified-id=\"Assessment-5.3.4\"><span class=\"toc-item-num\">5.3.4&nbsp;&nbsp;</span>Assessment</a></span></li></ul></li></ul></li><li><span><a href=\"#Summary-of-Modelling\" data-toc-modified-id=\"Summary-of-Modelling-6\"><span class=\"toc-item-num\">6&nbsp;&nbsp;</span>Summary of Modelling</a></span><ul class=\"toc-item\"><li><span><a href=\"#Fitting-Times\" data-toc-modified-id=\"Fitting-Times-6.1\"><span class=\"toc-item-num\">6.1&nbsp;&nbsp;</span>Fitting Times</a></span></li><li><span><a href=\"#Prediction-Times\" data-toc-modified-id=\"Prediction-Times-6.2\"><span class=\"toc-item-num\">6.2&nbsp;&nbsp;</span>Prediction Times</a></span></li><li><span><a href=\"#Accuracy\" data-toc-modified-id=\"Accuracy-6.3\"><span class=\"toc-item-num\">6.3&nbsp;&nbsp;</span>Accuracy</a></span></li><li><span><a href=\"#F1-Scores\" data-toc-modified-id=\"F1-Scores-6.4\"><span class=\"toc-item-num\">6.4&nbsp;&nbsp;</span>F1 Scores</a></span></li><li><span><a href=\"#Summary-of-Model-Assessment\" data-toc-modified-id=\"Summary-of-Model-Assessment-6.5\"><span class=\"toc-item-num\">6.5&nbsp;&nbsp;</span>Summary of Model Assessment</a></span></li></ul></li><li><span><a href=\"#Evaluation-of-Data-Mining-Process\" data-toc-modified-id=\"Evaluation-of-Data-Mining-Process-7\"><span class=\"toc-item-num\">7&nbsp;&nbsp;</span>Evaluation of Data Mining Process</a></span><ul class=\"toc-item\"><li><span><a href=\"#Business-Success-Criteria-and-Future-Work\" data-toc-modified-id=\"Business-Success-Criteria-and-Future-Work-7.1\"><span class=\"toc-item-num\">7.1&nbsp;&nbsp;</span>Business Success Criteria and Future Work</a></span></li><li><span><a href=\"#Techniques-and-Tools\" data-toc-modified-id=\"Techniques-and-Tools-7.2\"><span class=\"toc-item-num\">7.2&nbsp;&nbsp;</span>Techniques and Tools</a></span></li></ul></li><li><span><a href=\"#References\" data-toc-modified-id=\"References-8\"><span class=\"toc-item-num\">8&nbsp;&nbsp;</span>References</a></span></li></ul></div>"
   ]
  },
  {
   "cell_type": "markdown",
   "metadata": {},
   "source": [
    "<h1 class=\"tocSkip\"><center class=\"tocSkip\">Modelling and Evaluation Report</center></h1>\n",
    "<h1 class=\"tocSkip\"><center class=\"tocSkip\"><i class=\"tocSkip\">Ammar Hasan 150454388</i></center></h1>"
   ]
  },
  {
   "cell_type": "code",
   "execution_count": 1,
   "metadata": {},
   "outputs": [
    {
     "name": "stderr",
     "output_type": "stream",
     "text": [
      "C:\\ProgramData\\Anaconda3\\lib\\site-packages\\sklearn\\ensemble\\weight_boosting.py:29: DeprecationWarning: numpy.core.umath_tests is an internal NumPy module and should not be imported. It will be removed in a future NumPy release.\n",
      "  from numpy.core.umath_tests import inner1d\n"
     ]
    },
    {
     "data": {
      "text/plain": [
       "'\\npandas.core.series.Series: Lesion types (text) series sorted by idx for labels\\n'"
      ]
     },
     "execution_count": 1,
     "metadata": {},
     "output_type": "execute_result"
    }
   ],
   "source": [
    "# Imports\n",
    "\n",
    "import pandas as pd\n",
    "import matplotlib.pyplot as plt\n",
    "from sklearn.preprocessing import StandardScaler\n",
    "import numpy as np\n",
    "from sklearn.svm import SVC\n",
    "from sklearn.model_selection import GridSearchCV \n",
    "import sklearn.metrics as met\n",
    "from sklearn.linear_model import LogisticRegression\n",
    "from sklearn.model_selection import train_test_split\n",
    "from sklearn.ensemble import BaggingClassifier, RandomForestClassifier\n",
    "from sklearn.multiclass import OneVsRestClassifier\n",
    "import time\n",
    "\n",
    "\n",
    "BASE_PROCESSED_DATA_DIR = '../data/processed'\n",
    "\"\"\"\n",
    "str: Base processed data directory\n",
    "\"\"\"\n",
    "\n",
    "PROCESSED_CSV_FILE = BASE_PROCESSED_DATA_DIR + '/processed.csv'\n",
    "\"\"\"\n",
    "str: HAM1000_metadata.csv metadata file location \n",
    "\"\"\"\n",
    "        \n",
    "# Read dataset in\n",
    "skin_df = pd.read_csv(PROCESSED_CSV_FILE, index_col=0)\n",
    "\"\"\"\n",
    "pandas.core.frame.DataFrame: final dataset\n",
    "\"\"\"\n",
    "def tuning(function, parameters, X_train, y_train):\n",
    "    \"\"\"\n",
    "    Used to tune a model using 5 cv\n",
    "    adapted from https://github.com/yuguan1/example-ML-code\n",
    "    \n",
    "    returns best parameters from GridSearchCV\n",
    "    \"\"\"\n",
    "    print(\"# Tuning hyper-parameters\")\n",
    "    clf = GridSearchCV(function, parameters, cv=5)\n",
    "    clf.fit(X_train, y_train)\n",
    "\n",
    "    print('best parameters:')\n",
    "    print(clf.best_params_)\n",
    "    print('-------------------------------------')\n",
    "    return(clf.best_params_)\n",
    "\n",
    "def printMetrics(prediction, y_test):\n",
    "    \"\"\"\n",
    "    Prints accuracy, confusion and F1 metrics\n",
    "    \n",
    "    returns list of accuracy, confusion and F1 metrics\n",
    "    \"\"\"\n",
    "    accuracy = met.accuracy_score(y_test, prediction)\n",
    "    confusion = met.confusion_matrix(y_test, prediction)\n",
    "    f1_score_avg = met.f1_score(y_test, prediction, average='weighted')\n",
    "    f1_score = met.f1_score(y_test, prediction, average= None)\n",
    "\n",
    "    print('accuracy', accuracy)\n",
    "    print()\n",
    "    print(confusion)\n",
    "    print()\n",
    "    print('f1 average: ', f1_score_avg)\n",
    "    print('f1: ', f1_score)\n",
    "\n",
    "    return([accuracy, confusion, f1_score_avg])\n",
    "\n",
    "lesion_type_label = skin_df[\n",
    "    ['lesion_type_idx', 'lesion_type']].sort_values(\n",
    "    'lesion_type_idx').drop_duplicates()['lesion_type']\n",
    "\"\"\"\n",
    "pandas.core.series.Series: Lesion types (text) series sorted by idx for labels\n",
    "\"\"\""
   ]
  },
  {
   "cell_type": "markdown",
   "metadata": {},
   "source": [
    "## Report Introduction\n",
    "\n",
    "This report documents the Modelling and Evaluation stages of the CRISP-DM process followed by this project. These stages documents the construction of models and their evaluation - and to a lesser extent the project itself. This includes background information about the models, the training of them and their evaluation. \n",
    "\n",
    "## Background \n",
    "\n",
    "As stated in the Business Understanding report the Pigment Skin Diagnosis field use of technology has been growing due critical importance of early detection, and the computerised detection of Skin Lesions is becoming critical. In this project as stated in the criteria of Business Understanding report, the objective of this project is to develop, train and evaluate models (logistic, SVM and Random Forest) to classify skin lesion types and to compare the different models. \n",
    "\n",
    "## Modeling Assumptions and Potential Issues\n",
    "\n",
    "As stated in the Data Understanding report, some issues with the data were recognised:\n",
    "\n",
    "* Some of the sexes are unknown and the mention of whether these unknown sexes are simply unknown or are non-binary/non-conforming is missing.\n",
    "\n",
    "* Ground truths were obtained by various methods including expert consensus, which might effect the consistency of the classification.\n",
    "\n",
    "* The skin lesion condition frequencies are dominated by nevi and some conditions have very small frequencies in comparison (e.g. vascular and dermatofibroma)\n",
    "\n",
    "Hence, we need to assume that the unknown sexes and the different methods to obtain the ground truth will not have a major impact on the modelling and its analysis, but as stated in the Data Understanding report these issues are not major. But, the skin lesion frequencies might cause some issues with some models.\n",
    "\n",
    "\n",
    "## Test design\n",
    "\n",
    "As alluded to before in the background, the following classification models will be built in this project: \n",
    "\n",
    "* A neural network - specifically a Convoluted Neural Network \n",
    "\n",
    "* Logistic Regression Model \n",
    "\n",
    "* A Support Vector Machine \n",
    "\n",
    "Models are fitted by using a training data set and if tuning is required 5 fold cross validation is also used to find the optimal parameters. To test models the testing data set is used after the model was trained to evaluate the model (accuracy, confusion, f1 score, etc). The Training and test data is created by splitting the post processed final dataset described in the Data Understanding report in a 50-50 split respectively.\n",
    "\n",
    "### Creating the Testing and Training Datasets\n",
    "\n",
    "The final dataset whose creation was described in the Data Preparation report needs minor changes before the modelling begins. In particular, the categorical variables need to be hot coded and the data needs to be divided into model training and model testing samples.\n",
    "\n",
    "#### One Hot Encoding and Minor Manipulation"
   ]
  },
  {
   "cell_type": "code",
   "execution_count": 2,
   "metadata": {},
   "outputs": [],
   "source": [
    "# encode categorical cols using one hot encoding\n",
    "\n",
    "one_hot_localization = pd.get_dummies(skin_df['localization'])\n",
    "one_hot_localization.drop('unknown', axis=1, inplace = True)\n",
    "\n",
    "one_hot_sex = pd.get_dummies(skin_df['sex'])\n",
    "one_hot_sex.drop('unknown', axis=1, inplace = True)\n",
    "\n",
    "# Drop old categorical cols and replace with new ones\n",
    "# drop dx type (not needed beyond data understanding)\n",
    "\n",
    "skin_df.drop(['dx_type', 'localization', 'sex'], axis = 1, inplace = True)\n",
    "\n",
    "# Join the encoded dfs\n",
    "\n",
    "skin_df = skin_df.join(one_hot_localization)\n",
    "skin_df = skin_df.join(one_hot_sex)"
   ]
  },
  {
   "cell_type": "markdown",
   "metadata": {},
   "source": [
    "Using pandas dummies for categorical variables, localization values are one hot coded using new columns for every value (0 false / 1 true), however one of the columns is dropped since a negation of all the other columns represents it. Lastly, the now redundant sex and localization fields are dropped alongside dx_type (no need for analysing diagnosis type beyond Data Understanding).\n",
    "\n",
    "#### Test Split and Scaling "
   ]
  },
  {
   "cell_type": "code",
   "execution_count": 3,
   "metadata": {},
   "outputs": [],
   "source": [
    "# Split the dataset into training and test data in a 50-50 split\n",
    "# Don't include lesion_types (used for response) and image path (not used yet)\n",
    "\n",
    "X_train, X_test, y_train, y_test = train_test_split(\n",
    "    skin_df.drop(['lesion_type_idx', 'lesion_type'], axis=1),\n",
    "    skin_df['lesion_type_idx'], test_size=0.5, random_state=0)\n",
    "\n",
    "# scale using a partial fit for speed\n",
    "\n",
    "scaling = StandardScaler()\n",
    "\n",
    "scaling.partial_fit(X_test)\n",
    "X_test = scaling.transform(X_test)\n",
    "\n",
    "scaling.partial_fit(X_train)\n",
    "X_train = scaling.transform(X_train)"
   ]
  },
  {
   "cell_type": "markdown",
   "metadata": {},
   "source": [
    "The training data and the testing data are separated using a 50-50 split respectively, both sets consist of a set of predictors (X) and a response (y). The predictor data has the lesion_type_idx and lesion_type fields removed since they can leak the ground truth. For the response data only the lesion_type_idx field is used since it is sufficient at representing the category of skin lesion (the response / what is being predicted).\n",
    "\n",
    "To ensure that the impact of predictors is not effected by the measurement scale - which could occur in this dataset due to the variety of predictors - the predictors are scaled using a scaling transform (i.e. with default mean and standard deviation transform).\n",
    "\n",
    "### Measurements\n",
    "\n",
    "The computer used to carry the measurements has the following specifications:\n",
    "* CPU: i7-7700HQ\n",
    "* RAM: 8GB\n",
    "* OS: Windows 10\n",
    "* GPU: GTX 1060 (notebook)\n",
    "\n",
    "To evaluate the model the following measurements are taken:\n",
    "* Fit time: Using the time python library, a timer is started and stopped to measure tuning and fit .\n",
    "* Prediction time: Using the time python library, a timer is started and stopped to measure the prediction.\n",
    "* Confusion matrix: Using the sklearn metrics library a confusion matrix is printed.\n",
    "* F1 Score: Using the sklearn metrics library a F1 score is calculated using weighted averages and for every class.\n",
    "\n",
    "## Models Description and Assessments\n",
    "\t\t\t\t\n",
    "### Logistic Regression \n",
    "\n",
    "#### Introduction \t\t\n",
    "\n",
    "To achieve its classification, Logistic Regression fits a line to separate the data into classes. The line is fitted by minimising the error between line and points by changing the coefficients/weights and the intercept to find the \"ideal fit\". To minimise the error gradient descent (i.e. loss function optimisation) is used, which updates the parameters (i.e. through partial derivatives) to find a local minimum/maximum. (James et al., 2013)\n",
    "\n",
    "#### Construction and Tuning "
   ]
  },
  {
   "cell_type": "code",
   "execution_count": 4,
   "metadata": {},
   "outputs": [
    {
     "name": "stderr",
     "output_type": "stream",
     "text": [
      "C:\\ProgramData\\Anaconda3\\lib\\site-packages\\sklearn\\linear_model\\sag.py:326: ConvergenceWarning: The max_iter was reached which means the coef_ did not converge\n",
      "  \"the coef_ did not converge\", ConvergenceWarning)\n"
     ]
    },
    {
     "name": "stdout",
     "output_type": "stream",
     "text": [
      "Logistic fit time(seconds):  28.128968238830566\n"
     ]
    }
   ],
   "source": [
    "# fit with time measurements, use n_jobs -1 for all cores\n",
    "\n",
    "log_fit_start = time.time()\n",
    "clf = LogisticRegression(solver='saga', n_jobs = -1).fit(X_train, y_train)\n",
    "log_fit_end = time.time()\n",
    "\n",
    "log_fit_time = log_fit_end - log_fit_start\n",
    "print('Logistic fit time(seconds): ', log_fit_time)"
   ]
  },
  {
   "cell_type": "markdown",
   "metadata": {},
   "source": [
    "As previously stated, logistic regression fits a line through error minimisation and does not require tuning as the objective is straightforward. The model is simply constructed using a saga solver deployed to maximum threads (-1) using sklearn's logistic regression model.\n",
    "\n",
    "Nonetheless, the constructed model does not seem to converge, this is not that surprising as the fitted line can have many solutions, and sometimes with a large number of predictors this can cause logistic regression to struggle to find an ideal line (James et al., 2013).\n",
    "\n",
    "#### Interpretation\t\t"
   ]
  },
  {
   "cell_type": "code",
   "execution_count": 5,
   "metadata": {},
   "outputs": [
    {
     "name": "stdout",
     "output_type": "stream",
     "text": [
      "                    0  Actinic keratoses  Basal cell carcinoma  \\\n",
      "3136              age           0.177438              0.344516   \n",
      "3137          abdomen          -0.047619             -0.029246   \n",
      "3138            acral          -0.020823             -0.016253   \n",
      "3139             back          -0.097481              0.143565   \n",
      "3140            chest          -0.025989              0.137862   \n",
      "3141              ear           0.002960             -0.044507   \n",
      "3142             face           0.248055              0.108345   \n",
      "3143             foot          -0.068287             -0.081592   \n",
      "3144          genital          -0.025291             -0.024418   \n",
      "3145             hand           0.034297             -0.073172   \n",
      "3146  lower extremity           0.060997             -0.092365   \n",
      "3147             neck           0.014438              0.058447   \n",
      "3148            scalp           0.077900             -0.007582   \n",
      "3149            trunk          -0.112059             -0.036233   \n",
      "3150  upper extremity           0.102047             -0.035125   \n",
      "3151           female          -0.064417              0.014538   \n",
      "3152             male           0.082081              0.013225   \n",
      "\n",
      "      Benign keratosis-like lesions   Dermatofibroma  Melanocytic nevi  \\\n",
      "3136                        0.577055       -0.051253         -1.046366   \n",
      "3137                       -0.058280       -0.005779          0.122986   \n",
      "3138                       -0.056595       -0.012838          0.083335   \n",
      "3139                       -0.010787       -0.059636         -0.022806   \n",
      "3140                        0.064507       -0.026130         -0.097631   \n",
      "3141                       -0.065038       -0.015696         -0.057262   \n",
      "3142                        0.315165       -0.049256         -0.623519   \n",
      "3143                       -0.228383       -0.009924          0.272416   \n",
      "3144                        0.014746        0.012924          0.044719   \n",
      "3145                        0.044948       -0.030387          0.041499   \n",
      "3146                       -0.023325        0.149217         -0.052326   \n",
      "3147                        0.089153       -0.014975         -0.143592   \n",
      "3148                        0.023331       -0.043749         -0.062815   \n",
      "3149                        0.047929       -0.041920          0.084017   \n",
      "3150                       -0.060397        0.074843         -0.127507   \n",
      "3151                        0.041676       -0.000378         -0.051918   \n",
      "3152                       -0.038489        0.014207         -0.065951   \n",
      "\n",
      "      Melanoma  Vascular lesions  \n",
      "3136  0.420180         -0.041501  \n",
      "3137 -0.074304          0.055192  \n",
      "3138 -0.038075         -0.007010  \n",
      "3139  0.118811         -0.019974  \n",
      "3140  0.031109         -0.010167  \n",
      "3141  0.111783         -0.009440  \n",
      "3142  0.031731          0.012701  \n",
      "3143  0.022386         -0.046889  \n",
      "3144 -0.106234         -0.034480  \n",
      "3145 -0.073725          0.003845  \n",
      "3146  0.055989         -0.022239  \n",
      "3147  0.067730          0.019966  \n",
      "3148 -0.009795          0.010683  \n",
      "3149 -0.144810          0.077741  \n",
      "3150  0.186057         -0.016172  \n",
      "3151 -0.010818          0.032539  \n",
      "3152  0.079085         -0.014805  \n"
     ]
    }
   ],
   "source": [
    "# form table for coefficients using column names\n",
    "\n",
    "coefs = pd.concat([pd.DataFrame(skin_df.drop(\n",
    "    ['lesion_type_idx','lesion_type'], axis = 1).columns),\n",
    "                   pd.DataFrame(np.transpose(clf.coef_),\n",
    "                                columns = lesion_type_label)], axis = 1)\n",
    "                 \n",
    "# print table\n",
    "                   \n",
    "print(coefs.iloc[3136:])"
   ]
  },
  {
   "cell_type": "markdown",
   "metadata": {},
   "source": [
    "Since as described in the introduction of logistic regression, logistic regression uses a set of coefficients and weights to draw the classification line, it is easy to interpret the model by examining them. However, since there are many predictors we will only look at the meta data.\n",
    "\n",
    "Here it can be seen that age is the strongest overall predictor, in particular with classes Basal cell carcinoma, Benign keratosis and Melanocytic nevi, where in carcinoma and keratosis age had a positive impact, but in nevi age had a strong negative one. Some of these classes were predicted to have a strong dependence on age in the Data Understanding stage (e.g. carcinoma). Age seems to mostly have a positive trend nonetheless - which matches with the observations in the data understanding stage.\n",
    "\n",
    "When it comes to sex, three classes come to attention, Actinic keratoses, Melanocytic nevi and Melanoma. In keratoses, being a male has a noticiable positive impact which is also seen with class. In nevi females have a noticiable negative impact. However, in comparison to age, the sexes impact is minor.\n",
    "\n",
    "For localization, the face seems to have a strong impact when it comes to Actinic keratoses. Also in Basal cell carcinoma, the face also has a strong impact on a classification in this class while the foot has the opposite effect. However, the classes mostly effected by localization are Melanocytic nevi where a localization in the face very strongly suggests against a classification to it. Overall, localization is the second strongest predictor here.\n",
    "\n",
    "#### Assessment"
   ]
  },
  {
   "cell_type": "code",
   "execution_count": 6,
   "metadata": {},
   "outputs": [
    {
     "name": "stdout",
     "output_type": "stream",
     "text": [
      "accuracy 0.7330271565495208\n",
      "\n",
      "[[  31   25   60    0   32    9    0]\n",
      " [  14  105   57    0   74    9    0]\n",
      " [   8   28  244    0  192   65    0]\n",
      " [   5   13    4    1   38    3    0]\n",
      " [   5   23   82    0 3153   93    0]\n",
      " [   7   14   97    0  310  132    1]\n",
      " [   0   14    5    0   46    4    5]]\n",
      "\n",
      "f1 average:  0.7021641492370041\n",
      "f1:  [0.27312775 0.43659044 0.44935543 0.03076923 0.87571171 0.30136986\n",
      " 0.125     ]\n",
      "Logistic prediction time(seconds):  0.03888416290283203\n"
     ]
    }
   ],
   "source": [
    "# carry prediction with time measurements \n",
    "# while recording prediction\n",
    "\n",
    "log_pred_start = time.time()\n",
    "prediction = clf.predict(X_test)\n",
    "log_pred_end = time.time()\n",
    "\n",
    "log_met = printMetrics(prediction, y_test)\n",
    "log_pred_time = log_pred_end - log_pred_start\n",
    "print('Logistic prediction time(seconds): ', log_pred_time)"
   ]
  },
  {
   "cell_type": "markdown",
   "metadata": {},
   "source": [
    "We can observe that while the overall accuracy and f1 score is good, the class F1 scores and poor except for the 5th class, this is worrying because as stated before in the business understanding false negative performance is important, and a poor F1 suggests a poor false negative performance as can be seen in the confusion table. However, the other classes have significantly less members and the f1 scores might not be accurate enough.\n",
    "\n",
    "Nonetheless, this could be because of the issue observed in the model construction, as there was no convergence due to the large number of predictors. This might be fixed with the introduction of kernels as explained in the next section.\n",
    "\n",
    "### Support Vector Machines (SVM)\n",
    "\n",
    "#### Introduction \t\n",
    "\n",
    "Support Vector Machines are another classification model, which is an improvement logistic regression through the addition of two margins for the line which all class points must be behind and the distance to them from the line maximised (again using gradient descent). This ensures that the fairest line out of a set of lines that separate the points is chosen. (Rieck et al., 2012)\n",
    "\n",
    "To help interpreting non linear data for SVMs, kernels (commonly a Raidial Bias Function (RBF)) transform the data to a higher dimension (kernel trick) (Rieck et al., 2012).\n",
    "\n",
    "#### Construction and Tuning "
   ]
  },
  {
   "cell_type": "code",
   "execution_count": 7,
   "metadata": {},
   "outputs": [
    {
     "name": "stdout",
     "output_type": "stream",
     "text": [
      "SVM fit time(seconds):  24.3392550945282\n"
     ]
    }
   ],
   "source": [
    "# Fit\n",
    "\n",
    "svm_fit_start = time.time()\n",
    "\n",
    "n_estimators = 10\n",
    "clf = OneVsRestClassifier(\n",
    "    BaggingClassifier(\n",
    "        SVC(kernel='rbf', random_state=0),\n",
    "        max_samples=1.0 / n_estimators, n_jobs=-1,\n",
    "        n_estimators=n_estimators, random_state=0\n",
    "    ), n_jobs=-1\n",
    ").fit(X_train, y_train)\n",
    "\n",
    "svm_fit_end = time.time()\n",
    "svm_fit_time = svm_fit_end - svm_fit_start\n",
    "print('SVM fit time(seconds): ', svm_fit_time)"
   ]
  },
  {
   "cell_type": "markdown",
   "metadata": {},
   "source": [
    "Due to their high complexity (more on that later) a Bagging Classifier with a One Vs Rest Classifier (OvR) is used to help speed up the execution. The OvR basically creates a classifier for every class of a multi class classification problem to improve efficiency - enables paralysation - (“sklearn.multiclass.OneVsRestClassifier — scikit-learn 0.20.2 documentation,” n.d.).\n",
    "\n",
    "On the other hand, the Bagging Classifiers which are used by the OneVsRestClassifier works like a Random Decision tree, as it fits multiple classifiers on random subsets of the original dataset which it then aggregates for the final decision (“sklearn.ensemble.BaggingClassifier — scikit-learn 0.20.2 documentation,” n.d.). This ensemble approach reduces the size of the dataset and enables paralysation.\n",
    "\n",
    "However, this significantly complicates the function and hence tuning is not possible using a GridSearchCV for instance.\n",
    "\n",
    "#### Interpretation\t\n",
    "\n",
    "Support Vector Machine are more black box like due to their use of kernels, and hence difficult to interpret when it comes to predictor influence - the transformation into higher dimensions makes it difficult to find coefficients. \n",
    "\n",
    "#### Detailed assessment"
   ]
  },
  {
   "cell_type": "code",
   "execution_count": 8,
   "metadata": {},
   "outputs": [
    {
     "name": "stdout",
     "output_type": "stream",
     "text": [
      "accuracy 0.6888977635782748\n",
      "\n",
      "[[   1    3   17    0  134    2    0]\n",
      " [   0   10   19    0  230    0    0]\n",
      " [   0    0  116    0  421    0    0]\n",
      " [   1    2    7    0   54    0    0]\n",
      " [   0    0   37    0 3319    0    0]\n",
      " [   0    0   36    0  521    4    0]\n",
      " [   0    0    0    0   74    0    0]]\n",
      "\n",
      "f1 average:  0.5866640093284952\n",
      "f1:  [0.01257862 0.0729927  0.30169051 0.         0.81859662 0.01410935\n",
      " 0.        ]\n",
      "SVM prediction time(seconds):  155.82727026939392\n"
     ]
    },
    {
     "name": "stderr",
     "output_type": "stream",
     "text": [
      "C:\\ProgramData\\Anaconda3\\lib\\site-packages\\sklearn\\metrics\\classification.py:1135: UndefinedMetricWarning: F-score is ill-defined and being set to 0.0 in labels with no predicted samples.\n",
      "  'precision', 'predicted', average, warn_for)\n"
     ]
    }
   ],
   "source": [
    "# Prediction \n",
    "\n",
    "svm_pred_start = time.time()\n",
    "prediction = clf.predict(X_test)\n",
    "svm_pred_end = time.time()\n",
    "\n",
    "svm_met = printMetrics(prediction, y_test)\n",
    "svm_pred_time = svm_pred_end - svm_pred_start\n",
    "print('SVM prediction time(seconds): ', svm_pred_time)"
   ]
  },
  {
   "cell_type": "markdown",
   "metadata": {},
   "source": [
    "The accuracy seems to be down from the logistic regression, but more worryingly the f1 scores seem to have been hurt. However, the confusion table again suggests that the performance in largest class seem to have improved, which again suggests that the varying skin condition frequencies through the classes are making it difficult to assess the f1 score. Nonetheless, the gain is not massive considering the long fit and prediction times."
   ]
  },
  {
   "cell_type": "markdown",
   "metadata": {},
   "source": [
    "\n",
    "### Random Forest \n",
    "\n",
    "#### Introduction \t\t\n",
    "\n",
    "A random forest is a modelling technique that makes use of meta estimation through the use of multiple decision trees whose results are combined to form a final decision. The reliance on multiple decision trees helps resolve issues such as overfitting - reduces variance for bias. (“3.2.4.3.1. sklearn.ensemble.RandomForestClassifier — scikit-learn 0.20.2 documentation,” n.d.)\n",
    "\n",
    "The decision trees themselves are simple non-parametric supervised learning classifiers that make decisions throughout a structure based on entropy of values - high entropy branches and nodes are at higher levels. (“1.10. Decision Trees — scikit-learn 0.20.2 documentation,” n.d.)\n",
    "\n",
    "\n",
    "#### Construction and Tuning "
   ]
  },
  {
   "cell_type": "code",
   "execution_count": 9,
   "metadata": {},
   "outputs": [
    {
     "name": "stdout",
     "output_type": "stream",
     "text": [
      "# Tuning hyper-parameters\n",
      "best parameters:\n",
      "{'max_depth': 45, 'n_estimators': 225}\n",
      "-------------------------------------\n",
      "Random Forest fit time(seconds):  261.1578071117401\n"
     ]
    }
   ],
   "source": [
    "for_fit_start = time.time()\n",
    "\n",
    "parameters = [{'max_depth': [22,45],\n",
    "               'n_estimators': [225, 550]}]\n",
    "\n",
    "# Tune parameters using 5 fold cross validation \n",
    "best_params = tuning(RandomForestClassifier(\n",
    "    n_jobs = -1, random_state=0),\n",
    "                     parameters, X_train, y_train)\n",
    "\n",
    "\n",
    "# fit\n",
    "\n",
    "optimalDepth = best_params['max_depth']\n",
    "optimalEstimators = best_params['n_estimators']\n",
    "clf = RandomForestClassifier(random_state=0, \n",
    "                             max_depth = optimalDepth,\n",
    "                             n_estimators = optimalEstimators)\n",
    "clf.fit(X_train, y_train)\n",
    "\n",
    "for_fit_end = time.time()\n",
    "for_fit_time = for_fit_end - for_fit_start\n",
    "print('Random Forest fit time(seconds): ', for_fit_time)"
   ]
  },
  {
   "cell_type": "markdown",
   "metadata": {},
   "source": [
    "The Random Forest Classifier is tuned using a GridSearchCV (cross validation of 5 folds) on two parameters, 'max_depth' and 'n_estimators'. 'max_depth' controls how deep the tree can be constructed - reducing overfitting and simplifies model - and 'n_estimators' controls the number of trees that are created - cuts overfitting for underfitting. "
   ]
  },
  {
   "cell_type": "markdown",
   "metadata": {},
   "source": [
    "#### Interpretation\t\t\t\t\t"
   ]
  },
  {
   "cell_type": "code",
   "execution_count": 10,
   "metadata": {},
   "outputs": [
    {
     "name": "stdout",
     "output_type": "stream",
     "text": [
      "                field  importance\n",
      "3136              age    0.012616\n",
      "3137          abdomen    0.000040\n",
      "3138            acral    0.000000\n",
      "3139             back    0.000102\n",
      "3140            chest    0.000043\n",
      "3141              ear    0.000018\n",
      "3142             face    0.003687\n",
      "3143             foot    0.000056\n",
      "3144          genital    0.000000\n",
      "3145             hand    0.000057\n",
      "3146  lower extremity    0.000067\n",
      "3147             neck    0.000086\n",
      "3148            scalp    0.000078\n",
      "3149            trunk    0.000060\n",
      "3150  upper extremity    0.000117\n",
      "3151           female    0.000056\n",
      "3152             male    0.000049\n"
     ]
    }
   ],
   "source": [
    "importances = pd.concat(\n",
    "    [pd.DataFrame\n",
    "     (skin_df.drop([\n",
    "         'lesion_type_idx', 'lesion_type'],\n",
    "         axis = 1).columns, columns = ['field']),\n",
    "     pd.DataFrame(np.transpose(clf.feature_importances_),\n",
    "                  columns = ['importance'])], axis = 1)\n",
    "\n",
    "print(importances.iloc[3136:])"
   ]
  },
  {
   "cell_type": "markdown",
   "metadata": {},
   "source": [
    "This method is still difficult to interpret since there are many trees to explore. However, sklearn provides importances that are calculated through weighted information gain found through permutation (pjh2011, 2018). These feature importances revel that age is of very strong importance relative to other fields. But, interestingly the face has a strong importance as well, which could be because of Actinic keratoses and Basal cell carcinoma, which it effected in the Logistic Regression interpretation."
   ]
  },
  {
   "cell_type": "markdown",
   "metadata": {},
   "source": [
    "#### Assessment"
   ]
  },
  {
   "cell_type": "code",
   "execution_count": 11,
   "metadata": {},
   "outputs": [
    {
     "name": "stdout",
     "output_type": "stream",
     "text": [
      "accuracy 0.7240415335463258\n",
      "\n",
      "[[  21   29   46    0   60    1    0]\n",
      " [   6   78   45    0  126    4    0]\n",
      " [   4   20  202    0  294   17    0]\n",
      " [   1   13   13    0   37    0    0]\n",
      " [   2   11   66    0 3253   24    0]\n",
      " [   2    5   76    0  406   72    0]\n",
      " [   0    2    1    0   70    1    0]]\n",
      "\n",
      "f1 average:  0.6673408721740317\n",
      "f1:  [0.21761658 0.37410072 0.40973631 0.         0.85582741 0.21176471\n",
      " 0.        ]\n",
      "Random Forest prediction time (seconds):  0.4009273052215576\n"
     ]
    },
    {
     "name": "stderr",
     "output_type": "stream",
     "text": [
      "C:\\ProgramData\\Anaconda3\\lib\\site-packages\\sklearn\\metrics\\classification.py:1135: UndefinedMetricWarning: F-score is ill-defined and being set to 0.0 in labels with no predicted samples.\n",
      "  'precision', 'predicted', average, warn_for)\n"
     ]
    }
   ],
   "source": [
    "# Prediction and Assesmenmt\n",
    "\n",
    "for_pred_start = time.time()\n",
    "prediction = clf.predict(X_test)\n",
    "for_pred_end = time.time()\n",
    "\n",
    "for_met = printMetrics(prediction, y_test)\n",
    "for_pred_time = for_pred_end - for_pred_start\n",
    "print('Random Forest prediction time (seconds): ', for_pred_time)"
   ]
  },
  {
   "cell_type": "markdown",
   "metadata": {},
   "source": [
    "Again, it seems that while the f1 score and accuracy have improved compared to the support vector machine, the f1 scores are still low when it comes to some classes. This again could be because of the lack of samples for other skin lesion classes. \n",
    "\n",
    "The run time of this model fit seems to take a very significant amount of time, this is probably because it is the only model with tuning, but even with a small set of parameters the cross verification seems to take too long, but this is probably due to the size of the dataset."
   ]
  },
  {
   "cell_type": "markdown",
   "metadata": {},
   "source": [
    "## Summary of Modelling"
   ]
  },
  {
   "cell_type": "code",
   "execution_count": 12,
   "metadata": {},
   "outputs": [
    {
     "data": {
      "text/plain": [
       "'\\nList: model name labels used for plotting\\n'"
      ]
     },
     "execution_count": 12,
     "metadata": {},
     "output_type": "execute_result"
    }
   ],
   "source": [
    "model_labels = ['Logistic', 'SVM', 'Rnd Forest']\n",
    "\"\"\"\n",
    "List: model name labels used for plotting\n",
    "\"\"\""
   ]
  },
  {
   "cell_type": "markdown",
   "metadata": {},
   "source": [
    "### Fitting Times"
   ]
  },
  {
   "cell_type": "code",
   "execution_count": 21,
   "metadata": {},
   "outputs": [
    {
     "data": {
      "image/png": "[encoded data removed]",
      "text/plain": [
       "<Figure size 864x432 with 1 Axes>"
      ]
     },
     "metadata": {
      "needs_background": "light"
     },
     "output_type": "display_data"
    }
   ],
   "source": [
    "plt.bar([i for i, _ in enumerate(model_labels)],\n",
    "        [log_fit_time, svm_fit_time, for_fit_time])\n",
    "plt.title('Model Fitting (& tuning) Times')\n",
    "plt.ylabel('Time in Seconds')\n",
    "plt.xlabel('Model')\n",
    "plt.xticks([i for i, _ in enumerate(model_labels)],\n",
    "           model_labels)\n",
    "\n",
    "plt.rcParams['figure.figsize'] = [12, 6]\n",
    "\n",
    "plt.savefig('../reports/figures/fit-times.png') # save figure\n",
    "\n",
    "plt.show()"
   ]
  },
  {
   "cell_type": "markdown",
   "metadata": {},
   "source": [
    "The Random Forest is overwhelmingly the slowest model to fit, being around 10 times slower.\n",
    "\n",
    "### Prediction Times"
   ]
  },
  {
   "cell_type": "code",
   "execution_count": 14,
   "metadata": {},
   "outputs": [
    {
     "data": {
      "image/png": "[encoded data removed]",
      "text/plain": [
       "<Figure size 864x432 with 1 Axes>"
      ]
     },
     "metadata": {
      "needs_background": "light"
     },
     "output_type": "display_data"
    }
   ],
   "source": [
    "plt.bar([i for i, _ in enumerate(model_labels)],\n",
    "        [log_pred_time, svm_pred_time, for_pred_time])\n",
    "plt.title('Model Prediction Times')\n",
    "plt.ylabel('Time in Seconds')\n",
    "plt.xlabel('Model')\n",
    "plt.xticks([i for i, _ in enumerate(model_labels)],\n",
    "           model_labels)\n",
    "\n",
    "plt.rcParams['figure.figsize'] = [12, 6]\n",
    "plt.show()"
   ]
  },
  {
   "cell_type": "markdown",
   "metadata": {},
   "source": [
    "The SVM model is very tedious when it comes to predictions, being more than 100 times slower than the other two.\n",
    "\n",
    "### Accuracy "
   ]
  },
  {
   "cell_type": "code",
   "execution_count": 15,
   "metadata": {},
   "outputs": [
    {
     "data": {
      "image/png": "[encoded data removed]",
      "text/plain": [
       "<Figure size 864x432 with 1 Axes>"
      ]
     },
     "metadata": {
      "needs_background": "light"
     },
     "output_type": "display_data"
    }
   ],
   "source": [
    "plt.bar([i for i, _ in enumerate(model_labels)],\n",
    "        [log_met[0], svm_met[0], for_met[0]])\n",
    "plt.title('Model Accuracy by Model')\n",
    "plt.ylabel('Accuracy (% 0.0 - 1.0)')\n",
    "plt.xlabel('Model')\n",
    "plt.xticks([i for i, _ in enumerate(model_labels)],\n",
    "           model_labels)\n",
    "\n",
    "plt.rcParams['figure.figsize'] = [12, 6]\n",
    "plt.show()"
   ]
  },
  {
   "cell_type": "markdown",
   "metadata": {},
   "source": [
    "The accuracy of the three seems close, but the logistic regression seems to be the best.\n",
    "\n",
    "### F1 Scores "
   ]
  },
  {
   "cell_type": "code",
   "execution_count": 22,
   "metadata": {},
   "outputs": [
    {
     "data": {
      "image/png": "[encoded data removed]",
      "text/plain": [
       "<Figure size 864x432 with 1 Axes>"
      ]
     },
     "metadata": {
      "needs_background": "light"
     },
     "output_type": "display_data"
    }
   ],
   "source": [
    "plt.bar([i for i, _ in enumerate(model_labels)],\n",
    "        [log_met[2], svm_met[2], for_met[2]])\n",
    "plt.title('F1 Average Scores by Model')\n",
    "plt.ylabel('F1 Average (% 0.0 - 1.0)')\n",
    "plt.xlabel('Model')\n",
    "plt.xticks([i for i, _ in enumerate(model_labels)],\n",
    "           model_labels)\n",
    "\n",
    "plt.rcParams['figure.figsize'] = [12, 6]\n",
    "\n",
    "plt.savefig('../reports/figures/f1-score.png') # save figure\n",
    "plt.show()"
   ]
  },
  {
   "cell_type": "markdown",
   "metadata": {},
   "source": [
    "The average F1 scores are comparable between the Random Forest and the Logistic model, but the SVM model seems to perform noticeably worse than the other two.\n",
    "\n",
    "### Summary of Model Assessment\n",
    "\n",
    "When it comes to classification performance (f1 and accuracy), the logistic regression seems to best the two other models, with the the SVM model particularly performing worse. However, these scores could have been effected greatly by the tuning, as the SVM model was untuned and the Random Forest had a narrow set of tuning parameters due to runtimes. Moreover, the skin lesion conditions frequencies are very unequally divided between classes making f1 scores difficult to interpret.\n",
    "\n",
    "For run times, it seems that the Random Forest seems to take the overall highest run time due to its long fitting - probably caused by the tuning. The SVM model seems to be very slow when it comes to predictions - which is problematic considering it was not even tuned. The SVM performance is no surprise however, considering its worse than quadratic complexity (“sklearn.svm.SVC — scikit-learn 0.20.2 documentation,” n.d.). The logistic model seems to be significantly faster than the two overall according to the combined fit and prediction times.\n",
    "\n",
    "Nonetheless, these three models were quite difficult to use with this dataset. As the Logistic Regression does not seem to perform well when it comes to its confusion matrix, and the other two models come with significant run time issues and do not improve on its performance - because said run time issues make it difficult to tune them!\n",
    "\n",
    "Therefore, while out of the three models the logistic regression is best, for problems with high dimensionality it might be wise to use a method that is more paralyzable (e.g. Neural Networks) to make tuning easier with Parallel processing based Graphics Cards.\n",
    "\n",
    "\n",
    "## Evaluation of Data Mining Process  \n",
    "\n",
    "### Business Success Criteria and Future Work\n",
    "\n",
    "* Develop a neural, logistic, SVM and/or random forest models\n",
    "    - While a neural network was not developed due to time constraints the other models were fitted and predicted with.\n",
    "* Train the models using a diverse and large sample sized dataset\n",
    "    - While HMINST dataset seems to have a large selection of conditions, the frequencies of some conditions are minimal.\n",
    "* Classify the diagnosis based on a selection of skin conditions (stated above)\n",
    "    - While the overall accuracy of the models was good, the false positive and negative performances were poor.\n",
    "* Find and analyse model confusion matrices and measure models accuracy (discriminatory)\n",
    "    - Confusion matrices were printed and accuracies shown alongside f1 scores.\n",
    "* Find and analyse model fit training speed and test/usage speed (non-discriminatory)\n",
    "    - Training and test(predictions) times were recorded and analysed.\n",
    "* Select a favourable model based on the evaluation measures, but prioritise good false negative performance \n",
    "    - Logistic Regression was selected as the better model due to its good run time and it had the best false negative performance according to its f1 scores. However, its false negative performance is still poor with some classes. \n",
    "\n",
    "Overall, as stated in the model assessment summary, the models used proved to be problematic, especially the SVM and the Random Forest models, which proved to be slow and difficult to use and tune. Moreover, the dataset did not cover all the skin lesion conditions with sufficient frequencies. Hence, any future work should strive to try a more paralyzable model that is easier to tune and attempt to make use of a dataset with better frequency balance if possible.\n",
    "\n",
    "### Techniques and Tools \n",
    "\n",
    "While this project carried over a lot of familiar tools and processes used in previous projects (e.g. CRISP-DM, Git), which proved to proved the base process and the version control backup/archive for this project well, there was major change to new environment.\n",
    "\n",
    "This project was undertaken over a Cookie Cutter Data Science template over a python based environment, an environment which while successfully provided new more controllable tools (e.g. virtual environments for isolation), it also proved to be challenging. As, unlike R based solutions used before like Project Template, some solutions in this environment like the Cookie Cutter templates require more hacking (e.g. no automatic dataset loading from .csv files). The extra hacking proved to be a hindrance in the project and might have lead to some delays, however it provided useful tools that will be used in future projects. \n",
    "\n",
    "Lastly, an issue was faced in this project regrading the CRISP-DM model followed. In previous projects, the Data Preparation stage was done before the Data Understanding stage, but when used in this project the lack of clarity on the dataset lead to some parts of the project taking too long (e.g. merges due to key issues) due to a poor understanding of the data. Hence in future projects a slimmed down Data Understanding stage might be added before the data preparation.\n",
    "\n",
    "## References \n",
    "\n",
    "1. James, G., Witten, D., Hastie, T., Tibshirani, R., 2013. Classification, in: James, G., Witten, D., Hastie, T., Tibshirani, R. (Eds.), An Introduction to Statistical Learning: With Applications in R, Springer Texts in Statistics. Springer New York, New York, NY, pp. 127–173. https://doi.org/10.1007/978-1-4614-7138-7_4\n",
    "\n",
    "2. Rieck, K., Sonnenburg, S., Mika, S., Schäfer, C., Laskov, P., Tax, D., Müller, K.-R., 2012. Support Vector Machines, in: Gentle, J.E., Härdle, W.K., Mori, Y. (Eds.), Handbook of Computational Statistics: Concepts and Methods, Springer Handbooks of Computational Statistics. Springer Berlin Heidelberg, Berlin, Heidelberg, pp. 883–926. https://doi.org/10.1007/978-3-642-21551-3_30\n",
    "\n",
    "3. sklearn.multiclass.OneVsRestClassifier — scikit-learn 0.20.2 documentation [WWW Document], n.d. URL https://scikit-learn.org/stable/modules/generated/sklearn.multiclass.OneVsRestClassifier.html (accessed 1.24.19).\n",
    "\n",
    "4. sklearn.ensemble.BaggingClassifier — scikit-learn 0.20.2 documentation [WWW Document], n.d. URL https://scikit-learn.org/stable/modules/generated/sklearn.ensemble.BaggingClassifier.html (accessed 1.24.19).\n",
    "\n",
    "5. 3.2.4.3.1. sklearn.ensemble.RandomForestClassifier — scikit-learn 0.20.2 documentation [WWW Document], n.d. URL https://scikit-learn.org/stable/modules/generated/sklearn.ensemble.RandomForestClassifier.html (accessed 1.24.19).\n",
    "\n",
    "6. 1.10. Decision Trees — scikit-learn 0.20.2 documentation [WWW Document], n.d. URL https://scikit-learn.org/stable/modules/tree.html#tree-classification (accessed 1.24.19).\n",
    "\n",
    "7. pjh2011, 2018. Contribute to pjh2011/rf_perm_feat_import development by creating an account on GitHub. \n",
    "\n",
    "8. sklearn.svm.SVC — scikit-learn 0.20.2 documentation [WWW Document], n.d. URL https://scikit-learn.org/stable/modules/generated/sklearn.svm.SVC.html (accessed 1.24.19)."
   ]
  }
 ],
 "metadata": {
  "kernelspec": {
   "display_name": "Python 3",
   "language": "python",
   "name": "python3"
  },
  "language_info": {
   "codemirror_mode": {
    "name": "ipython",
    "version": 3
   },
   "file_extension": ".py",
   "mimetype": "text/x-python",
   "name": "python",
   "nbconvert_exporter": "python",
   "pygments_lexer": "ipython3",
   "version": "3.7.0"
  },
  "latex_envs": {
   "LaTeX_envs_menu_present": true,
   "autoclose": false,
   "autocomplete": true,
   "bibliofile": "biblio.bib",
   "cite_by": "apalike",
   "current_citInitial": 1,
   "eqLabelWithNumbers": true,
   "eqNumInitial": 1,
   "hotkeys": {
    "equation": "Ctrl-E",
    "itemize": "Ctrl-I"
   },
   "labels_anchors": false,
   "latex_user_defs": false,
   "report_style_numbering": false,
   "user_envs_cfg": false
  },
  "toc": {
   "base_numbering": 1,
   "nav_menu": {},
   "number_sections": true,
   "sideBar": true,
   "skip_h1_title": true,
   "title_cell": "Table of Contents",
   "title_sidebar": "Contents",
   "toc_cell": true,
   "toc_position": {
    "height": "calc(100% - 180px)",
    "left": "10px",
    "top": "150px",
    "width": "165px"
   },
   "toc_section_display": true,
   "toc_window_display": true
  }
 },
 "nbformat": 4,
 "nbformat_minor": 2
}
