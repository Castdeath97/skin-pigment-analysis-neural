{
 "cells": [
  {
   "cell_type": "markdown",
   "metadata": {
    "toc": true
   },
   "source": [
    "<h1>Table of Contents<span class=\"tocSkip\"></span></h1>\n",
    "<div class=\"toc\"><ul class=\"toc-item\"><li><span><a href=\"#Report-Introduction\" data-toc-modified-id=\"Report-Introduction-1\"><span class=\"toc-item-num\">1&nbsp;&nbsp;</span>Report Introduction</a></span></li><li><span><a href=\"#Background\" data-toc-modified-id=\"Background-2\"><span class=\"toc-item-num\">2&nbsp;&nbsp;</span>Background</a></span></li><li><span><a href=\"#Modeling-Assumptions-and-Potential-Issues\" data-toc-modified-id=\"Modeling-Assumptions-and-Potential-Issues-3\"><span class=\"toc-item-num\">3&nbsp;&nbsp;</span>Modeling Assumptions and Potential Issues</a></span></li><li><span><a href=\"#Test-design\" data-toc-modified-id=\"Test-design-4\"><span class=\"toc-item-num\">4&nbsp;&nbsp;</span>Test design</a></span><ul class=\"toc-item\"><li><span><a href=\"#Creating-the-Testing-and-Training-Datasets\" data-toc-modified-id=\"Creating-the-Testing-and-Training-Datasets-4.1\"><span class=\"toc-item-num\">4.1&nbsp;&nbsp;</span>Creating the Testing and Training Datasets</a></span><ul class=\"toc-item\"><li><span><a href=\"#One-Hot-Encoding-and-Minor-Manipulation\" data-toc-modified-id=\"One-Hot-Encoding-and-Minor-Manipulation-4.1.1\"><span class=\"toc-item-num\">4.1.1&nbsp;&nbsp;</span>One Hot Encoding and Minor Manipulation</a></span></li><li><span><a href=\"#Test-Split-and-Scaling\" data-toc-modified-id=\"Test-Split-and-Scaling-4.1.2\"><span class=\"toc-item-num\">4.1.2&nbsp;&nbsp;</span>Test Split and Scaling</a></span></li></ul></li><li><span><a href=\"#Measurements\" data-toc-modified-id=\"Measurements-4.2\"><span class=\"toc-item-num\">4.2&nbsp;&nbsp;</span>Measurements</a></span></li></ul></li><li><span><a href=\"#Models-Description-and-Assessments\" data-toc-modified-id=\"Models-Description-and-Assessments-5\"><span class=\"toc-item-num\">5&nbsp;&nbsp;</span>Models Description and Assessments</a></span><ul class=\"toc-item\"><li><span><a href=\"#Logistic-Regression\" data-toc-modified-id=\"Logistic-Regression-5.1\"><span class=\"toc-item-num\">5.1&nbsp;&nbsp;</span>Logistic Regression</a></span><ul class=\"toc-item\"><li><span><a href=\"#Introduction\" data-toc-modified-id=\"Introduction-5.1.1\"><span class=\"toc-item-num\">5.1.1&nbsp;&nbsp;</span>Introduction</a></span></li><li><span><a href=\"#Construction-and-Tuning\" data-toc-modified-id=\"Construction-and-Tuning-5.1.2\"><span class=\"toc-item-num\">5.1.2&nbsp;&nbsp;</span>Construction and Tuning</a></span></li><li><span><a href=\"#Interpretation\" data-toc-modified-id=\"Interpretation-5.1.3\"><span class=\"toc-item-num\">5.1.3&nbsp;&nbsp;</span>Interpretation</a></span></li><li><span><a href=\"#Assessment\" data-toc-modified-id=\"Assessment-5.1.4\"><span class=\"toc-item-num\">5.1.4&nbsp;&nbsp;</span>Assessment</a></span></li></ul></li><li><span><a href=\"#Support-Vector-Machines-(SVM)\" data-toc-modified-id=\"Support-Vector-Machines-(SVM)-5.2\"><span class=\"toc-item-num\">5.2&nbsp;&nbsp;</span>Support Vector Machines (SVM)</a></span><ul class=\"toc-item\"><li><span><a href=\"#Introduction\" data-toc-modified-id=\"Introduction-5.2.1\"><span class=\"toc-item-num\">5.2.1&nbsp;&nbsp;</span>Introduction</a></span></li><li><span><a href=\"#Construction-and-Tuning\" data-toc-modified-id=\"Construction-and-Tuning-5.2.2\"><span class=\"toc-item-num\">5.2.2&nbsp;&nbsp;</span>Construction and Tuning</a></span></li><li><span><a href=\"#Interpretation\" data-toc-modified-id=\"Interpretation-5.2.3\"><span class=\"toc-item-num\">5.2.3&nbsp;&nbsp;</span>Interpretation</a></span></li><li><span><a href=\"#Detailed-assessment\" data-toc-modified-id=\"Detailed-assessment-5.2.4\"><span class=\"toc-item-num\">5.2.4&nbsp;&nbsp;</span>Detailed assessment</a></span></li></ul></li><li><span><a href=\"#Random-Forest\" data-toc-modified-id=\"Random-Forest-5.3\"><span class=\"toc-item-num\">5.3&nbsp;&nbsp;</span>Random Forest</a></span><ul class=\"toc-item\"><li><span><a href=\"#Introduction\" data-toc-modified-id=\"Introduction-5.3.1\"><span class=\"toc-item-num\">5.3.1&nbsp;&nbsp;</span>Introduction</a></span></li><li><span><a href=\"#Construction-and-Tuning\" data-toc-modified-id=\"Construction-and-Tuning-5.3.2\"><span class=\"toc-item-num\">5.3.2&nbsp;&nbsp;</span>Construction and Tuning</a></span></li><li><span><a href=\"#Interpretation\" data-toc-modified-id=\"Interpretation-5.3.3\"><span class=\"toc-item-num\">5.3.3&nbsp;&nbsp;</span>Interpretation</a></span></li><li><span><a href=\"#Assessment\" data-toc-modified-id=\"Assessment-5.3.4\"><span class=\"toc-item-num\">5.3.4&nbsp;&nbsp;</span>Assessment</a></span></li></ul></li></ul></li><li><span><a href=\"#Summary-of-Modelling\" data-toc-modified-id=\"Summary-of-Modelling-6\"><span class=\"toc-item-num\">6&nbsp;&nbsp;</span>Summary of Modelling</a></span><ul class=\"toc-item\"><li><span><a href=\"#Fitting-Times\" data-toc-modified-id=\"Fitting-Times-6.1\"><span class=\"toc-item-num\">6.1&nbsp;&nbsp;</span>Fitting Times</a></span></li><li><span><a href=\"#Prediction-Times\" data-toc-modified-id=\"Prediction-Times-6.2\"><span class=\"toc-item-num\">6.2&nbsp;&nbsp;</span>Prediction Times</a></span></li><li><span><a href=\"#Accuracy\" data-toc-modified-id=\"Accuracy-6.3\"><span class=\"toc-item-num\">6.3&nbsp;&nbsp;</span>Accuracy</a></span></li><li><span><a href=\"#F1-Scores\" data-toc-modified-id=\"F1-Scores-6.4\"><span class=\"toc-item-num\">6.4&nbsp;&nbsp;</span>F1 Scores</a></span></li><li><span><a href=\"#Summary-of-Model-Assessment\" data-toc-modified-id=\"Summary-of-Model-Assessment-6.5\"><span class=\"toc-item-num\">6.5&nbsp;&nbsp;</span>Summary of Model Assessment</a></span></li></ul></li><li><span><a href=\"#Evaluation-of-Data-Mining-Process\" data-toc-modified-id=\"Evaluation-of-Data-Mining-Process-7\"><span class=\"toc-item-num\">7&nbsp;&nbsp;</span>Evaluation of Data Mining Process</a></span><ul class=\"toc-item\"><li><span><a href=\"#Business-Success-Criteria-and-Future-Work\" data-toc-modified-id=\"Business-Success-Criteria-and-Future-Work-7.1\"><span class=\"toc-item-num\">7.1&nbsp;&nbsp;</span>Business Success Criteria and Future Work</a></span></li><li><span><a href=\"#Techniques-and-Tools\" data-toc-modified-id=\"Techniques-and-Tools-7.2\"><span class=\"toc-item-num\">7.2&nbsp;&nbsp;</span>Techniques and Tools</a></span></li></ul></li><li><span><a href=\"#References\" data-toc-modified-id=\"References-8\"><span class=\"toc-item-num\">8&nbsp;&nbsp;</span>References</a></span></li></ul></div>"
   ]
  },
  {
   "cell_type": "markdown",
   "metadata": {},
   "source": [
    "<h1 class=\"tocSkip\"><center class=\"tocSkip\">Modelling and Evaluation Report</center></h1>\n",
    "<h1 class=\"tocSkip\"><center class=\"tocSkip\"><i class=\"tocSkip\">Ammar Hasan 150454388</i></center></h1>"
   ]
  },
  {
   "cell_type": "code",
   "execution_count": 11,
   "metadata": {},
   "outputs": [
    {
     "data": {
      "text/plain": [
       "'\\npandas.core.series.Series: Lesion types (text) series sorted by idx for labels\\n'"
      ]
     },
     "execution_count": 11,
     "metadata": {},
     "output_type": "execute_result"
    }
   ],
   "source": [
    "# Imports\n",
    "\n",
    "import pandas as pd\n",
    "import matplotlib.pyplot as plt\n",
    "import numpy as np\n",
    "\n",
    "from sklearn.preprocessing import StandardScaler\n",
    "from sklearn.model_selection import train_test_split\n",
    "import sklearn.metrics as met\n",
    "\n",
    "import time\n",
    "\n",
    "import keras\n",
    "from keras.layers import Dense\n",
    "from keras.models import Sequential\n",
    "from keras.callbacks import EarlyStopping\n",
    "from keras.utils import to_categorical\n",
    "\n",
    "\n",
    "BASE_PROCESSED_DATA_DIR = '../data/processed'\n",
    "\"\"\"\n",
    "str: Base processed data directory\n",
    "\"\"\"\n",
    "\n",
    "PROCESSED_CSV_FILE = BASE_PROCESSED_DATA_DIR + '/processed.csv'\n",
    "\"\"\"\n",
    "str: HAM1000_metadata.csv metadata file location \n",
    "\"\"\"\n",
    "        \n",
    "# Read dataset in\n",
    "skin_df = pd.read_csv(PROCESSED_CSV_FILE, index_col=0)\n",
    "\"\"\"\n",
    "pandas.core.frame.DataFrame: final dataset\n",
    "\"\"\"\n",
    "\n",
    "def printMetrics(prediction, y_test):\n",
    "    \"\"\"\n",
    "    Prints accuracy, confusion and F1 metrics\n",
    "    \n",
    "    returns list of accuracy, confusion and F1 metrics\n",
    "    \"\"\"\n",
    "    accuracy = met.accuracy_score(y_test, prediction)\n",
    "    confusion = met.confusion_matrix(y_test, prediction)\n",
    "    f1_score_avg = met.f1_score(y_test, prediction, average='weighted')\n",
    "    f1_score = met.f1_score(y_test, prediction, average= None)\n",
    "\n",
    "    print('accuracy', accuracy)\n",
    "    print()\n",
    "    print(confusion)\n",
    "    print()\n",
    "    print('f1 average: ', f1_score_avg)\n",
    "    print('f1: ', f1_score)\n",
    "\n",
    "    return([accuracy, confusion, f1_score_avg])\n",
    "\n",
    "lesion_type_label = skin_df[\n",
    "    ['lesion_type_idx', 'lesion_type']].sort_values(\n",
    "    'lesion_type_idx').drop_duplicates()['lesion_type']\n",
    "\"\"\"\n",
    "pandas.core.series.Series: Lesion types (text) series sorted by idx for labels\n",
    "\"\"\""
   ]
  },
  {
   "cell_type": "markdown",
   "metadata": {},
   "source": [
    "## Report Introduction\n",
    "\n",
    "This report documents the process of creating neural networks to model skin pigment diagnosis and the evaluation of said models (especially compared to other methods used in the previous analysis). Two types of neural networks will be created:\n",
    "\n",
    "* Basic Sequential neural network\n",
    "* Convoluted neural network\n",
    "\n",
    "#### One Hot Encoding and Minor Manipulation"
   ]
  },
  {
   "cell_type": "code",
   "execution_count": 12,
   "metadata": {},
   "outputs": [],
   "source": [
    "# encode categorical cols using one hot encoding\n",
    "\n",
    "one_hot_localization = pd.get_dummies(skin_df['localization'])\n",
    "one_hot_localization.drop('unknown', axis=1, inplace = True)\n",
    "\n",
    "one_hot_sex = pd.get_dummies(skin_df['sex'])\n",
    "one_hot_sex.drop('unknown', axis=1, inplace = True)\n",
    "\n",
    "# Drop old categorical cols and replace with new ones\n",
    "# drop dx type (not needed beyond data understanding)\n",
    "\n",
    "skin_df.drop(['dx_type', 'localization', 'sex'], axis = 1, inplace = True)\n",
    "\n",
    "# Join the encoded dfs\n",
    "\n",
    "skin_df = skin_df.join(one_hot_localization)\n",
    "skin_df = skin_df.join(one_hot_sex)"
   ]
  },
  {
   "cell_type": "markdown",
   "metadata": {},
   "source": [
    "Using pandas dummies for categorical variables, localization values are one hot coded using new columns for every value (0 false / 1 true), however one of the columns is dropped since a negation of all the other columns represents it. Lastly, the now redundant sex and localization fields are dropped alongside dx_type (no need for analysing diagnosis type beyond Data Understanding).\n",
    "\n",
    "#### Test Split and Scaling "
   ]
  },
  {
   "cell_type": "code",
   "execution_count": 13,
   "metadata": {},
   "outputs": [
    {
     "name": "stderr",
     "output_type": "stream",
     "text": [
      "C:\\ProgramData\\Anaconda3\\lib\\site-packages\\ipykernel_launcher.py:12: DataConversionWarning: Data with input dtype uint8, int64, float64 were all converted to float64 by StandardScaler.\n",
      "  if sys.path[0] == '':\n",
      "C:\\ProgramData\\Anaconda3\\lib\\site-packages\\ipykernel_launcher.py:13: DataConversionWarning: Data with input dtype uint8, int64, float64 were all converted to float64 by StandardScaler.\n",
      "  del sys.path[0]\n",
      "C:\\ProgramData\\Anaconda3\\lib\\site-packages\\ipykernel_launcher.py:15: DataConversionWarning: Data with input dtype uint8, int64, float64 were all converted to float64 by StandardScaler.\n",
      "  from ipykernel import kernelapp as app\n",
      "C:\\ProgramData\\Anaconda3\\lib\\site-packages\\ipykernel_launcher.py:16: DataConversionWarning: Data with input dtype uint8, int64, float64 were all converted to float64 by StandardScaler.\n",
      "  app.launch_new_instance()\n"
     ]
    }
   ],
   "source": [
    "# Split the dataset into training and test data in a 50-50 split\n",
    "# Don't include lesion_types (used for response) and image path (not used yet)\n",
    "\n",
    "X_train, X_test, y_train, y_test = train_test_split(\n",
    "    skin_df.drop(['lesion_type_idx', 'lesion_type'], axis=1),\n",
    "    skin_df['lesion_type_idx'], test_size=0.5, random_state=0)\n",
    "\n",
    "# scale using a partial fit for speed\n",
    "\n",
    "scaling = StandardScaler()\n",
    "\n",
    "scaling.partial_fit(X_test)\n",
    "X_test = scaling.transform(X_test)\n",
    "\n",
    "scaling.partial_fit(X_train)\n",
    "X_train = scaling.transform(X_train)"
   ]
  },
  {
   "cell_type": "markdown",
   "metadata": {},
   "source": [
    "The training data and the testing data are separated using a 50-50 split respectively, both sets consist of a set of predictors (X) and a response (y). The predictor data has the lesion_type_idx and lesion_type fields removed since they can leak the ground truth. For the response data only the lesion_type_idx field is used since it is sufficient at representing the category of skin lesion (the response / what is being predicted).\n",
    "\n",
    "To ensure that the impact of predictors is not effected by the measurement scale - which could occur in this dataset due to the variety of predictors - the predictors are scaled using a scaling transform (i.e. with default mean and standard deviation transform).\n",
    "\n",
    "### Measurements\n",
    "\n",
    "The computer used to carry the measurements has the following specifications:\n",
    "* CPU: i7-7700HQ\n",
    "* RAM: 8GB\n",
    "* OS: Windows 10\n",
    "* GPU: GTX 1060 (notebook)\n",
    "\n",
    "To evaluate the model the following measurements are taken:\n",
    "* Fit time: Using the time python library, a timer is started and stopped to measure tuning and fit .\n",
    "* Prediction time: Using the time python library, a timer is started and stopped to measure the prediction.\n",
    "* Confusion matrix: Using the sklearn metrics library a confusion matrix is printed.\n",
    "* F1 Score: Using the sklearn metrics library a F1 score is calculated using weighted averages and for every class.\n",
    "\n",
    "## Models Description and Assessments\n",
    "\n",
    "### Neural Networks\n",
    "\n",
    "Neural networks are machine learning tools that are inspired by human brain biology, relying on multiple connected neurons that interact with one another through multiple layers. Neural networks emphasize the importance of interaction between features more so than traditional models reliant on basic sums of coefficients attached to predictors.\n",
    "\t\t\t\t\n",
    "### Sequential Neural Network\n",
    "\n",
    "#### Introduction \t\t\n",
    "\n",
    "Sequential Neural Networks layers are sequentially attached meaning each layer's neurons only attach to the next layer's. The networks will use relu activation (softmax at final layer) and Adam optimisation using categorical cross entropy loss. The model training will early stop if no improvement occurs after 3 iterations.\n",
    "\n",
    "#### Construction and Tuning \n",
    "\n",
    "To tune the networks multiple models of increasing complexity/capacity (various widths and/or layer counts) are created and the ones with the best performance are picked. We will try 1 layer 30 nodes, 1 layer 50 nodes, 2 layers 50 nodes"
   ]
  },
  {
   "cell_type": "code",
   "execution_count": 14,
   "metadata": {},
   "outputs": [
    {
     "name": "stdout",
     "output_type": "stream",
     "text": [
      "3996     4\n",
      "5905     4\n",
      "4577     4\n",
      "8613     4\n",
      "847      2\n",
      "333      2\n",
      "6408     4\n",
      "4786     4\n",
      "357      2\n",
      "9676     4\n",
      "9172     4\n",
      "9065     4\n",
      "9788     0\n",
      "9496     4\n",
      "4006     4\n",
      "7077     4\n",
      "1606     5\n",
      "480      2\n",
      "6111     4\n",
      "3415     4\n",
      "446      2\n",
      "4887     4\n",
      "3573     4\n",
      "9922     0\n",
      "1273     5\n",
      "3092     4\n",
      "8182     4\n",
      "10005    0\n",
      "3976     4\n",
      "9456     4\n",
      "        ..\n",
      "755      2\n",
      "8291     4\n",
      "2496     1\n",
      "7599     4\n",
      "1871     5\n",
      "2046     5\n",
      "7877     4\n",
      "4851     4\n",
      "5072     4\n",
      "2163     5\n",
      "6036     4\n",
      "6921     4\n",
      "6216     4\n",
      "537      2\n",
      "9893     0\n",
      "2897     1\n",
      "7768     4\n",
      "2222     5\n",
      "2599     1\n",
      "705      2\n",
      "3468     4\n",
      "6744     4\n",
      "5874     4\n",
      "4373     4\n",
      "7891     4\n",
      "9225     4\n",
      "4859     4\n",
      "3264     4\n",
      "9845     0\n",
      "2732     1\n",
      "Name: lesion_type_idx, Length: 5007, dtype: int64\n"
     ]
    }
   ],
   "source": [
    "print(y_train)"
   ]
  },
  {
   "cell_type": "code",
   "execution_count": 17,
   "metadata": {},
   "outputs": [],
   "source": [
    "# Need to separate targets\n",
    "target = to_categorical(y_train)"
   ]
  },
  {
   "cell_type": "code",
   "execution_count": 28,
   "metadata": {},
   "outputs": [],
   "source": [
    "def create_seq_model(hidden_layers, nodes_per_layer) :\n",
    "    \"\"\"\n",
    "    creates a sequential neural networks with a set of hidden \n",
    "    layers (hidden_layers) with a given number of nodes (nodes_per_layer)\n",
    "    which is complied in a 0.3 validation split in 20 epochs (early stop 3)\n",
    "    \n",
    "    returns keras model\n",
    "    \"\"\"\n",
    "    early_stopping_monitor = EarlyStopping(patience = 3)\n",
    "    \n",
    "    model = Sequential()\n",
    "    \n",
    "    for i in range(hidden_layers - 1) :\n",
    "        if i == 0 :\n",
    "            model.add(Dense(nodes_per_layer, activation = 'relu', input_shape = (X_train.shape[1],)))\n",
    "        model.add(Dense(nodes_per_layer, activation = 'relu'))\n",
    "            \n",
    "    model.add(Dense(7, activation = 'softmax'))\n",
    "\n",
    "    model.compile(optimizer = 'adam', loss = 'categorical_crossentropy',\n",
    "                   metrics = ['accuracy'])\n",
    "    model.fit(X_train, target, validation_split = 0.3, epochs = 20,\n",
    "               callbacks = [early_stopping_monitor])\n",
    "    \n",
    "    return model"
   ]
  },
  {
   "cell_type": "code",
   "execution_count": 41,
   "metadata": {},
   "outputs": [
    {
     "name": "stdout",
     "output_type": "stream",
     "text": [
      "Train on 3504 samples, validate on 1503 samples\n",
      "Epoch 1/20\n",
      "3504/3504 [==============================] - 3s 903us/step - loss: 1.0350 - acc: 0.6418 - val_loss: 0.9165 - val_acc: 0.6853\n",
      "Epoch 2/20\n",
      "3504/3504 [==============================] - 1s 262us/step - loss: 0.8715 - acc: 0.6826 - val_loss: 0.9261 - val_acc: 0.6800\n",
      "Epoch 3/20\n",
      "3504/3504 [==============================] - 1s 268us/step - loss: 0.8282 - acc: 0.7080 - val_loss: 0.8704 - val_acc: 0.7019\n",
      "Epoch 4/20\n",
      "3504/3504 [==============================] - 1s 273us/step - loss: 0.7712 - acc: 0.7172 - val_loss: 0.8235 - val_acc: 0.7132\n",
      "Epoch 5/20\n",
      "3504/3504 [==============================] - 1s 272us/step - loss: 0.7037 - acc: 0.7546 - val_loss: 0.8599 - val_acc: 0.7112\n",
      "Epoch 6/20\n",
      "3504/3504 [==============================] - 1s 275us/step - loss: 0.6803 - acc: 0.7529 - val_loss: 0.8748 - val_acc: 0.7039\n",
      "Epoch 7/20\n",
      "3504/3504 [==============================] - 1s 269us/step - loss: 0.6195 - acc: 0.7711 - val_loss: 0.8990 - val_acc: 0.7212\n",
      "Train on 3504 samples, validate on 1503 samples\n",
      "Epoch 1/20\n",
      "3504/3504 [==============================] - 3s 866us/step - loss: 1.0404 - acc: 0.6487 - val_loss: 0.9449 - val_acc: 0.6926\n",
      "Epoch 2/20\n",
      "3504/3504 [==============================] - 1s 278us/step - loss: 0.8628 - acc: 0.6921 - val_loss: 0.9683 - val_acc: 0.6840\n",
      "Epoch 3/20\n",
      "3504/3504 [==============================] - 1s 268us/step - loss: 0.8022 - acc: 0.7126 - val_loss: 0.8789 - val_acc: 0.7026\n",
      "Epoch 4/20\n",
      "3504/3504 [==============================] - 1s 272us/step - loss: 0.7278 - acc: 0.7346 - val_loss: 0.8822 - val_acc: 0.6700\n",
      "Epoch 5/20\n",
      "3504/3504 [==============================] - 1s 272us/step - loss: 0.6922 - acc: 0.7531 - val_loss: 0.8263 - val_acc: 0.7046\n",
      "Epoch 6/20\n",
      "3504/3504 [==============================] - 1s 268us/step - loss: 0.6536 - acc: 0.7623 - val_loss: 0.8466 - val_acc: 0.6966\n",
      "Epoch 7/20\n",
      "3504/3504 [==============================] - 1s 274us/step - loss: 0.6023 - acc: 0.7763 - val_loss: 0.8201 - val_acc: 0.7206\n",
      "Epoch 8/20\n",
      "3504/3504 [==============================] - 1s 279us/step - loss: 0.5703 - acc: 0.7860 - val_loss: 0.8884 - val_acc: 0.7265\n",
      "Epoch 9/20\n",
      "3504/3504 [==============================] - ETA: 0s - loss: 0.5299 - acc: 0.810 - 1s 269us/step - loss: 0.5318 - acc: 0.8085 - val_loss: 0.9291 - val_acc: 0.6793\n",
      "Epoch 10/20\n",
      "3504/3504 [==============================] - 1s 274us/step - loss: 0.4897 - acc: 0.8222 - val_loss: 0.9178 - val_acc: 0.7039\n",
      "Train on 3504 samples, validate on 1503 samples\n",
      "Epoch 1/20\n",
      "3504/3504 [==============================] - 3s 928us/step - loss: 0.9753 - acc: 0.6641 - val_loss: 0.8994 - val_acc: 0.6966\n",
      "Epoch 2/20\n",
      "3504/3504 [==============================] - 1s 285us/step - loss: 0.8699 - acc: 0.6826 - val_loss: 0.9098 - val_acc: 0.6707\n",
      "Epoch 3/20\n",
      "3504/3504 [==============================] - 1s 286us/step - loss: 0.8101 - acc: 0.6992 - val_loss: 0.8471 - val_acc: 0.6933\n",
      "Epoch 4/20\n",
      "3504/3504 [==============================] - 1s 283us/step - loss: 0.7717 - acc: 0.7095 - val_loss: 0.8394 - val_acc: 0.7132\n",
      "Epoch 5/20\n",
      "3504/3504 [==============================] - 1s 287us/step - loss: 0.7343 - acc: 0.7337 - val_loss: 0.8154 - val_acc: 0.7106\n",
      "Epoch 6/20\n",
      "3504/3504 [==============================] - 1s 303us/step - loss: 0.6919 - acc: 0.7434 - val_loss: 0.8481 - val_acc: 0.7206\n",
      "Epoch 7/20\n",
      "3504/3504 [==============================] - 1s 292us/step - loss: 0.6584 - acc: 0.7537 - val_loss: 0.8178 - val_acc: 0.7152\n",
      "Epoch 8/20\n",
      "3504/3504 [==============================] - 1s 282us/step - loss: 0.6286 - acc: 0.7720 - val_loss: 0.8816 - val_acc: 0.6966\n",
      "Train on 3504 samples, validate on 1503 samples\n",
      "Epoch 1/20\n",
      "3504/3504 [==============================] - 4s 1ms/step - loss: 0.9776 - acc: 0.6564 - val_loss: 0.9477 - val_acc: 0.6820\n",
      "Epoch 2/20\n",
      "3504/3504 [==============================] - 1s 323us/step - loss: 0.8705 - acc: 0.6792 - val_loss: 0.8830 - val_acc: 0.6946\n",
      "Epoch 3/20\n",
      "3504/3504 [==============================] - 1s 330us/step - loss: 0.8123 - acc: 0.6992 - val_loss: 0.8248 - val_acc: 0.7126\n",
      "Epoch 4/20\n",
      "3504/3504 [==============================] - 1s 319us/step - loss: 0.7747 - acc: 0.7112 - val_loss: 0.8281 - val_acc: 0.7126\n",
      "Epoch 5/20\n",
      "3504/3504 [==============================] - 1s 309us/step - loss: 0.7360 - acc: 0.7246 - val_loss: 0.8250 - val_acc: 0.7112\n",
      "Epoch 6/20\n",
      "3504/3504 [==============================] - 1s 304us/step - loss: 0.7002 - acc: 0.7420 - val_loss: 0.8090 - val_acc: 0.7172\n",
      "Epoch 7/20\n",
      "3504/3504 [==============================] - 1s 299us/step - loss: 0.6464 - acc: 0.7600 - val_loss: 0.9192 - val_acc: 0.7212\n",
      "Epoch 8/20\n",
      "3504/3504 [==============================] - 1s 296us/step - loss: 0.6548 - acc: 0.7577 - val_loss: 0.8279 - val_acc: 0.7172\n",
      "Epoch 9/20\n",
      "3504/3504 [==============================] - 1s 311us/step - loss: 0.5855 - acc: 0.7845 - val_loss: 0.8261 - val_acc: 0.7299\n"
     ]
    }
   ],
   "source": [
    "s_nn_fit_start = time.time()\n",
    "model_1 = create_seq_model(3, 60)\n",
    "model_2 = create_seq_model(3, 85)\n",
    "model_3 = create_seq_model(5, 70)\n",
    "model_4 = create_seq_model(5, 150)\n",
    "s_nn_fit_end = time.time()"
   ]
  },
  {
   "cell_type": "code",
   "execution_count": 42,
   "metadata": {},
   "outputs": [
    {
     "name": "stdout",
     "output_type": "stream",
     "text": [
      "Sequential NN fit time(seconds):  45.43846774101257\n"
     ]
    }
   ],
   "source": [
    "s_nn_fit_time = s_nn_fit_end - s_nn_fit_start\n",
    "print('Sequential NN fit time(seconds): ', s_nn_fit_time)"
   ]
  },
  {
   "cell_type": "markdown",
   "metadata": {},
   "source": [
    "A simple neuron network of 3 layers and 85 nodes per layer seems to performing in a manner satisfactory manner and seems to be very fast to tune with a dedicated GPU."
   ]
  },
  {
   "cell_type": "markdown",
   "metadata": {},
   "source": [
    "#### Assessment"
   ]
  },
  {
   "cell_type": "code",
   "execution_count": 40,
   "metadata": {},
   "outputs": [
    {
     "name": "stdout",
     "output_type": "stream",
     "text": [
      "accuracy 0.7074680511182109\n",
      "\n",
      "[[  39   24   47    0   36   10    1]\n",
      " [  31   66   74    0   72   12    4]\n",
      " [  16   12  227    0  218   61    3]\n",
      " [   5   11   19    0   27    2    0]\n",
      " [   6   10  165    0 3046  126    3]\n",
      " [   7    3   94    0  291  165    1]\n",
      " [   3    4   11    0   49    7    0]]\n",
      "\n",
      "f1 average:  0.682831818609564\n",
      "f1:  [0.29545455 0.33933162 0.3867121  0.         0.85863284 0.34957627\n",
      " 0.        ]\n",
      "Sequential NN prediction time(seconds):  1.387599229812622\n"
     ]
    },
    {
     "name": "stderr",
     "output_type": "stream",
     "text": [
      "C:\\ProgramData\\Anaconda3\\lib\\site-packages\\sklearn\\metrics\\classification.py:1143: UndefinedMetricWarning: F-score is ill-defined and being set to 0.0 in labels with no predicted samples.\n",
      "  'precision', 'predicted', average, warn_for)\n"
     ]
    }
   ],
   "source": [
    "# carry prediction with time measurements \n",
    "# while recording prediction\n",
    "\n",
    "s_nn_pred_start = time.time()\n",
    "prediction = model_1.predict_classes(X_test)\n",
    "s_nn_pred_end = time.time()\n",
    "\n",
    "s_nn_met = printMetrics(prediction, y_test)\n",
    "s_nn_pred_time = s_nn_pred_end - s_nn_pred_start\n",
    "print('Sequential NN prediction time(seconds): ', s_nn_pred_time)"
   ]
  },
  {
   "cell_type": "markdown",
   "metadata": {},
   "source": [
    "It seems the a sequential neural network doesn't actually perform better than logistic regression while being noticeably slower to fit and predict with."
   ]
  },
  {
   "cell_type": "markdown",
   "metadata": {},
   "source": [
    "## Summary of Modelling"
   ]
  },
  {
   "cell_type": "code",
   "execution_count": 12,
   "metadata": {},
   "outputs": [
    {
     "data": {
      "text/plain": [
       "'\\nList: model name labels used for plotting\\n'"
      ]
     },
     "execution_count": 12,
     "metadata": {},
     "output_type": "execute_result"
    }
   ],
   "source": [
    "model_labels = ['Logistic', 'SVM', 'Rnd Forest']\n",
    "\"\"\"\n",
    "List: model name labels used for plotting\n",
    "\"\"\""
   ]
  },
  {
   "cell_type": "markdown",
   "metadata": {},
   "source": [
    "### Fitting Times"
   ]
  },
  {
   "cell_type": "code",
   "execution_count": 21,
   "metadata": {},
   "outputs": [
    {
     "data": {
      "image/png": "[encoded data removed]",
      "text/plain": [
       "<Figure size 864x432 with 1 Axes>"
      ]
     },
     "metadata": {
      "needs_background": "light"
     },
     "output_type": "display_data"
    }
   ],
   "source": [
    "plt.bar([i for i, _ in enumerate(model_labels)],\n",
    "        [log_fit_time, svm_fit_time, for_fit_time])\n",
    "plt.title('Model Fitting (& tuning) Times')\n",
    "plt.ylabel('Time in Seconds')\n",
    "plt.xlabel('Model')\n",
    "plt.xticks([i for i, _ in enumerate(model_labels)],\n",
    "           model_labels)\n",
    "\n",
    "plt.rcParams['figure.figsize'] = [12, 6]\n",
    "\n",
    "plt.savefig('../reports/figures/fit-times.png') # save figure\n",
    "\n",
    "plt.show()"
   ]
  },
  {
   "cell_type": "markdown",
   "metadata": {},
   "source": [
    "\n",
    "### Prediction Times"
   ]
  },
  {
   "cell_type": "code",
   "execution_count": null,
   "metadata": {},
   "outputs": [],
   "source": [
    "plt.bar([i for i, _ in enumerate(model_labels)],\n",
    "        [log_pred_time, svm_pred_time, for_pred_time])\n",
    "plt.title('Model Prediction Times')\n",
    "plt.ylabel('Time in Seconds')\n",
    "plt.xlabel('Model')\n",
    "plt.xticks([i for i, _ in enumerate(model_labels)],\n",
    "           model_labels)\n",
    "\n",
    "plt.rcParams['figure.figsize'] = [12, 6]\n",
    "plt.show()"
   ]
  },
  {
   "cell_type": "markdown",
   "metadata": {},
   "source": [
    "\n",
    "### Accuracy "
   ]
  },
  {
   "cell_type": "code",
   "execution_count": null,
   "metadata": {},
   "outputs": [],
   "source": [
    "plt.bar([i for i, _ in enumerate(model_labels)],\n",
    "        [log_met[0], svm_met[0], for_met[0]])\n",
    "plt.title('Model Accuracy by Model')\n",
    "plt.ylabel('Accuracy (% 0.0 - 1.0)')\n",
    "plt.xlabel('Model')\n",
    "plt.xticks([i for i, _ in enumerate(model_labels)],\n",
    "           model_labels)\n",
    "\n",
    "plt.rcParams['figure.figsize'] = [12, 6]\n",
    "plt.show()"
   ]
  },
  {
   "cell_type": "markdown",
   "metadata": {},
   "source": [
    "\n",
    "### F1 Scores "
   ]
  },
  {
   "cell_type": "code",
   "execution_count": null,
   "metadata": {},
   "outputs": [],
   "source": [
    "plt.bar([i for i, _ in enumerate(model_labels)],\n",
    "        [log_met[2], svm_met[2], for_met[2]])\n",
    "plt.title('F1 Average Scores by Model')\n",
    "plt.ylabel('F1 Average (% 0.0 - 1.0)')\n",
    "plt.xlabel('Model')\n",
    "plt.xticks([i for i, _ in enumerate(model_labels)],\n",
    "           model_labels)\n",
    "\n",
    "plt.rcParams['figure.figsize'] = [12, 6]\n",
    "\n",
    "plt.savefig('../reports/figures/f1-score.png') # save figure\n",
    "plt.show()"
   ]
  },
  {
   "cell_type": "markdown",
   "metadata": {},
   "source": [
    "### Summary of Model Assessment\n",
    "\n"
   ]
  }
 ],
 "metadata": {
  "kernelspec": {
   "display_name": "Python 3",
   "language": "python",
   "name": "python3"
  },
  "language_info": {
   "codemirror_mode": {
    "name": "ipython",
    "version": 3
   },
   "file_extension": ".py",
   "mimetype": "text/x-python",
   "name": "python",
   "nbconvert_exporter": "python",
   "pygments_lexer": "ipython3",
   "version": "3.7.0"
  },
  "latex_envs": {
   "LaTeX_envs_menu_present": true,
   "autoclose": false,
   "autocomplete": true,
   "bibliofile": "biblio.bib",
   "cite_by": "apalike",
   "current_citInitial": 1,
   "eqLabelWithNumbers": true,
   "eqNumInitial": 1,
   "hotkeys": {
    "equation": "Ctrl-E",
    "itemize": "Ctrl-I"
   },
   "labels_anchors": false,
   "latex_user_defs": false,
   "report_style_numbering": false,
   "user_envs_cfg": false
  },
  "toc": {
   "base_numbering": 1,
   "nav_menu": {},
   "number_sections": true,
   "sideBar": true,
   "skip_h1_title": true,
   "title_cell": "Table of Contents",
   "title_sidebar": "Contents",
   "toc_cell": true,
   "toc_position": {
    "height": "calc(100% - 180px)",
    "left": "10px",
    "top": "150px",
    "width": "165px"
   },
   "toc_section_display": true,
   "toc_window_display": true
  }
 },
 "nbformat": 4,
 "nbformat_minor": 2
}
