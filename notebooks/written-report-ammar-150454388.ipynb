{
 "cells": [
  {
   "cell_type": "markdown",
   "metadata": {
    "toc": true
   },
   "source": [
    "<h1>Table of Contents<span class=\"tocSkip\"></span></h1>\n",
    "<div class=\"toc\"><ul class=\"toc-item\"><li><span><a href=\"#Introduction\" data-toc-modified-id=\"Introduction-1\"><span class=\"toc-item-num\">1&nbsp;&nbsp;</span>Introduction</a></span></li><li><span><a href=\"#Project-Background-and-Justification\" data-toc-modified-id=\"Project-Background-and-Justification-2\"><span class=\"toc-item-num\">2&nbsp;&nbsp;</span>Project Background and Justification</a></span></li><li><span><a href=\"#Project-Criteria/Objectives\" data-toc-modified-id=\"Project-Criteria/Objectives-3\"><span class=\"toc-item-num\">3&nbsp;&nbsp;</span>Project Criteria/Objectives</a></span></li><li><span><a href=\"#Tools,-Methodology-and-Evaluation-Design\" data-toc-modified-id=\"Tools,-Methodology-and-Evaluation-Design-4\"><span class=\"toc-item-num\">4&nbsp;&nbsp;</span>Tools, Methodology and Evaluation Design</a></span></li><li><span><a href=\"#Exploratory-Findings-and-Results\" data-toc-modified-id=\"Exploratory-Findings-and-Results-5\"><span class=\"toc-item-num\">5&nbsp;&nbsp;</span>Exploratory Findings and Results</a></span></li><li><span><a href=\"#Evaluation-and-Future-work\" data-toc-modified-id=\"Evaluation-and-Future-work-6\"><span class=\"toc-item-num\">6&nbsp;&nbsp;</span>Evaluation and Future work</a></span></li></ul></div>"
   ]
  },
  {
   "cell_type": "markdown",
   "metadata": {},
   "source": [
    "## Introduction \n",
    "\n",
    "This report covers the Machine Learning data mining project on the diagnosis of skin lesions by summarising the project's background, objectives, methods and findings. Moreover, this report will also reflect on the project processes and tools. This report however is a summary of the CRISP DM documents produced by this project, hence detailed findings will not be covered here. \n",
    "\n",
    "## Project Background and Justification\n",
    "\n",
    "Pigment skin diagnosis field has been growing due to the importance of early detection of skin conditions like skin cancer. The field has developed various detection methods and the use of computerised algorithms for accuracy. Hence, the use of modelling techniques to improve that rely on dermatoscopic images of pigmented skin lesions for training cannot be understated.\n",
    "\n",
    "## Project Criteria/Objectives \n",
    "\n",
    "This project objective is to develop machine learning model for the diagnosis of pigmented skin lesions. The diagnosis method must be able to classify the each images to a set of given conditions. The models will also be evaluated using various model evaluation techniques (confusion matrices, F1 scores, etc.) as part of the project. The specific criteria that this project needs to complete went as below: \n",
    "\n",
    "* Develop a neural, logistic, SVM and/or random forest models\n",
    "* Train the models using a diverse and large sample sized dataset\n",
    "* Classify the diagnosis based on a selection of skin conditions (stated above)\n",
    "* Find and analyse model confusion matrices and measure models accuracy (discriminatory)\n",
    "* Find and analyse model fit training speed and test/usage speed (non-discriminatory)\n",
    "* Select a favourable model based on the evaluation measures, but prioritise good false negative performance \n",
    "\n",
    "## Tools, Methodology and Evaluation Design\n",
    "\n",
    "The project will follow the CRISP-DM hierarchical cyclic process model for data mining (Chapman et al., 2000) to provide the process for data mining in this project. The project and make use of Test Driven Development (PyTests) and literate programing (Jupyter Notebook), which are used to ensure that both tasks of testing documentation can be carried simultaneously with the coding process. Git and Github is used for version control to manage the progress of cookie cutter based project template, the code in that project will also be documented with the help of Sphinx. \n",
    "\n",
    "The project will be divided into these stages according to the produced CRISP DM based reports: \n",
    "\n",
    "1. Business Understanding:\n",
    "    - This report covers the background, justification, objectives and project plan for the data mining project.\n",
    "2. Data Preparation:\n",
    "    - This report covers how the data was cleaned and prepared.\n",
    "3. Data Understanding:\n",
    "    - This report covers the data exploratory process undertaken in this project\n",
    "4. Modelling and Evaluation:\n",
    "    - This report covers the construction of the machine learning models (logistic, SVM and random forest models) and their evaluation. This report also covers the evaluation of the overall project.\n",
    "\n",
    "## Exploratory Findings and Results \n",
    "\n",
    "The exploratory analysis of the data has shown that skin lesions are more likely to occur at extremities, the back and trunk. Also, lesions are overwhelmingly of the Melanocytic Nevi type, and that lesions have varying degrees of dependence on age with some getting effected less than others.\n",
    "\n",
    "When it comes to models, their classification performance (f1 and accuracy) has shown that logistic regression seems to best the two other models, with the the SVM model particularly performing worse. For run times, the Random forest was slow to fit and the SVM model was very slow to predict compared to the other two. Overall, the logistic model seemed to be significantly faster than the two overall according to the combined fit and prediction times.\n",
    "\n",
    "## Evaluation and Future work \n",
    "\n",
    "While the results show that out of the three models the logistic regression is best, the overall f1 scores and confusion matrices were poor when it came to their consistency in all the models. This is perhaps caused by logistic regression's poor dimensionality performance and poor tuning for the SVM and Random Forest, as the SVM was not tuned due to the use of a Bagging and One Vs All classifier, and the Random Forest had a narrow set of tuning parameters due to run time issues. Moreover, as stated in the exploratory findings, the lesions are overwhelmingly of the Melanocytic Nevi type which might have made it difficult to balance the tuning/fit and to interpret the f1 scores.\n",
    "\n",
    "Hence, in future projects, when solving problems with high dimensionality it might be wise to use a method that is more paralyzable (e.g. Neural Networks) to make tuning easier with parallel processing based Graphics Cards. Moreover, it might be wise to make use of dataset that is not overwhelmingly dominated by one class.\n",
    "\n",
    "When it came to the techniques and tools used in this project, while the newer cookie cutter python based environment provided useful tools with more intricate controls (e.g. VirtualEnv for isolation), it proved to be a significant hurdle in the early stages of the project. The newer tools seemed to not have as many conveniences like some R based tools like Project Template (e.g. automatic dataset loading). Nonetheless, the experiences with some of the tool - in particular Sphinx documents and virtual enviroments - will prove useful in future projects.  \n"
   ]
  }
 ],
 "metadata": {
  "kernelspec": {
   "display_name": "Python 3",
   "language": "python",
   "name": "python3"
  },
  "language_info": {
   "codemirror_mode": {
    "name": "ipython",
    "version": 3
   },
   "file_extension": ".py",
   "mimetype": "text/x-python",
   "name": "python",
   "nbconvert_exporter": "python",
   "pygments_lexer": "ipython3",
   "version": "3.7.0"
  },
  "latex_envs": {
   "LaTeX_envs_menu_present": true,
   "autoclose": false,
   "autocomplete": true,
   "bibliofile": "biblio.bib",
   "cite_by": "apalike",
   "current_citInitial": 1,
   "eqLabelWithNumbers": true,
   "eqNumInitial": 1,
   "hotkeys": {
    "equation": "Ctrl-E",
    "itemize": "Ctrl-I"
   },
   "labels_anchors": false,
   "latex_user_defs": false,
   "report_style_numbering": false,
   "user_envs_cfg": false
  },
  "toc": {
   "base_numbering": 1,
   "nav_menu": {},
   "number_sections": true,
   "sideBar": true,
   "skip_h1_title": true,
   "title_cell": "Table of Contents",
   "title_sidebar": "Contents",
   "toc_cell": true,
   "toc_position": {},
   "toc_section_display": true,
   "toc_window_display": true
  }
 },
 "nbformat": 4,
 "nbformat_minor": 2
}
