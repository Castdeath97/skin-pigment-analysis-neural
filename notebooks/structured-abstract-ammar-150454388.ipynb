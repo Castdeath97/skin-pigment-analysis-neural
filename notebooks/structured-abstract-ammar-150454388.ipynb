{
 "cells": [
  {
   "cell_type": "markdown",
   "metadata": {},
   "source": [
    "## Context\n",
    "\n",
    "Pigment skin diagnosis field has been growing due to the importance of early detection of skin conditions like skin cancer, the field has developed various detection methods that include computerised algorithms to help with this.\n",
    " \n",
    "## Objective\n",
    "\n",
    "Hence, this project aim is to develop a machine learning model for the diagnosis of pigmented skin lesions. The project objectives include developing and training a models with a diverse and large dataset, and using these models with test data to evaluate their discriminatory and non-discriminatory performance to find a final model.\n",
    "\n",
    "## Method\n",
    "\n",
    "To achieve this, the project follows the CRISP DM approach for the data mining process, specifically dividing the process up to stages and reports. The process will be used to construct and evaluate the models.\n",
    "    \n",
    "## Results\n",
    "\n",
    "The results from the process show that out of the selected three models, the logistic regression seem to perform best in the discriminatory and non-discriminatory categories, getting better accuracies, run times and confusion matricies. However, the results were still poor when it came to the consistency of classification, and the results of the other might have been effected heavily by the difficulty of tuning the SVM and the Random Forest due to poor run times. \n",
    "\t\n",
    "## Novelty\n",
    "\n",
    "Other literature usually covered discriminatory performance of models but glanced over non-discriminatory measures like fitting times and prediction times, which this project considered a priority. Moreover, this makes use of diverse and large dataset with more classes than similar projects which usually cover around 3-2 classes."
   ]
  },
  {
   "cell_type": "markdown",
   "metadata": {},
   "source": [
    "![The f1 scores of SVM and Random Forest are not better even after poor run times](../reports/figures/f1-score.png)\n",
    "\n",
    "![The fit times of Random Forest were slow making tuning difficult](../reports/figures/fit-times.png)"
   ]
  }
 ],
 "metadata": {
  "kernelspec": {
   "display_name": "Python 3",
   "language": "python",
   "name": "python3"
  },
  "language_info": {
   "codemirror_mode": {
    "name": "ipython",
    "version": 3
   },
   "file_extension": ".py",
   "mimetype": "text/x-python",
   "name": "python",
   "nbconvert_exporter": "python",
   "pygments_lexer": "ipython3",
   "version": "3.7.0"
  },
  "latex_envs": {
   "LaTeX_envs_menu_present": true,
   "autoclose": false,
   "autocomplete": true,
   "bibliofile": "biblio.bib",
   "cite_by": "apalike",
   "current_citInitial": 1,
   "eqLabelWithNumbers": true,
   "eqNumInitial": 1,
   "hotkeys": {
    "equation": "Ctrl-E",
    "itemize": "Ctrl-I"
   },
   "labels_anchors": false,
   "latex_user_defs": false,
   "report_style_numbering": false,
   "user_envs_cfg": false
  },
  "toc": {
   "base_numbering": 1,
   "nav_menu": {},
   "number_sections": false,
   "sideBar": true,
   "skip_h1_title": false,
   "title_cell": "Table of Contents",
   "title_sidebar": "Contents",
   "toc_cell": false,
   "toc_position": {},
   "toc_section_display": true,
   "toc_window_display": true
  }
 },
 "nbformat": 4,
 "nbformat_minor": 2
}
